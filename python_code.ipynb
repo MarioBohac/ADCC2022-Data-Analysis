{
 "cells": [
  {
   "cell_type": "markdown",
   "id": "e809f213",
   "metadata": {
    "papermill": {
     "duration": 0.013536,
     "end_time": "2024-03-19T14:45:02.414652",
     "exception": false,
     "start_time": "2024-03-19T14:45:02.401116",
     "status": "completed"
    },
    "tags": []
   },
   "source": [
    "ADCC 2022 - Data Analysis \n",
    "---"
   ]
  },
  {
   "cell_type": "markdown",
   "id": "7feb01b2",
   "metadata": {
    "papermill": {
     "duration": 0.012892,
     "end_time": "2024-03-19T14:45:02.440876",
     "exception": false,
     "start_time": "2024-03-19T14:45:02.427984",
     "status": "completed"
    },
    "tags": []
   },
   "source": [
    "The 2022 Abu Dhabi Combat Club (ADCC) Submission Fighting World Championship was an international submission grappling tournament held at the Thomas & Mack Center in Las Vegas, Nevada, USA, in September of 2022.\n",
    "This championship is widely considered to be the most prestigious submission grappling tournament in the world.\n",
    "\n",
    "In this notebook you can find a quick analysis of the results of the tournament with an aim to give insight into the submission part of the tournament. \n",
    "\n",
    "\n",
    "\n",
    "Why analyze this?\n",
    "\n",
    "I myself love grappling as a sport and as a hobby. But mainly I was interested in a couple of things:\n",
    "\n",
    "How were the matches won?\n",
    "What submissions were most common?\n",
    "And at what times were they most likely to occur?\n",
    "\n",
    "This work has given me important insight into the current grappling 'meta' and showed me on what to focus in my own training. More in the conclusion...\n",
    "\n",
    "Tableau Dashboard : https://public.tableau.com/views/proj1_17073084540380/Dashboard32?:language=en-US&:sid=&:display_count=n&:origin=viz_share_link\n"
   ]
  },
  {
   "cell_type": "markdown",
   "id": "d0db094a",
   "metadata": {
    "papermill": {
     "duration": 0.012705,
     "end_time": "2024-03-19T14:45:02.466796",
     "exception": false,
     "start_time": "2024-03-19T14:45:02.454091",
     "status": "completed"
    },
    "tags": []
   },
   "source": [
    "Importing libraries and data cleaning\n",
    "--"
   ]
  },
  {
   "cell_type": "code",
   "execution_count": 1,
   "id": "b2a545db",
   "metadata": {
    "execution": {
     "iopub.execute_input": "2024-03-19T14:45:02.496401Z",
     "iopub.status.busy": "2024-03-19T14:45:02.495532Z",
     "iopub.status.idle": "2024-03-19T14:45:05.099920Z",
     "shell.execute_reply": "2024-03-19T14:45:05.098459Z"
    },
    "papermill": {
     "duration": 2.623122,
     "end_time": "2024-03-19T14:45:05.102943",
     "exception": false,
     "start_time": "2024-03-19T14:45:02.479821",
     "status": "completed"
    },
    "tags": []
   },
   "outputs": [],
   "source": [
    "import numpy as np\n",
    "import matplotlib.pyplot as plt\n",
    "import pandas as pd\n",
    "import seaborn as sns\n",
    "import warnings "
   ]
  },
  {
   "cell_type": "code",
   "execution_count": 2,
   "id": "2b5e3123",
   "metadata": {
    "execution": {
     "iopub.execute_input": "2024-03-19T14:45:05.131904Z",
     "iopub.status.busy": "2024-03-19T14:45:05.130971Z",
     "iopub.status.idle": "2024-03-19T14:45:05.164560Z",
     "shell.execute_reply": "2024-03-19T14:45:05.163126Z"
    },
    "papermill": {
     "duration": 0.051298,
     "end_time": "2024-03-19T14:45:05.167591",
     "exception": false,
     "start_time": "2024-03-19T14:45:05.116293",
     "status": "completed"
    },
    "tags": []
   },
   "outputs": [],
   "source": [
    "#reading the .csv file and cleaning the NaN data\n",
    "adcc = pd.read_csv('/kaggle/input/adcc-2022-matches-dataset/ADCC_2022 - Pgina1.csv')\n",
    "\n",
    "adcc['submission'] = adcc['submission'].fillna('No sub')\n",
    "adcc['score_x'] = adcc['score_x'].fillna('No data')\n",
    "adcc['score_y'] = adcc['score_y'].fillna('No data')\n",
    "adcc['total_score_sum'] = adcc['total_score_sum'].fillna('No data')\n",
    "adcc['match_duration'] = adcc['match_duration'].fillna('0:00')\n",
    "adcc['went_overtime'] = adcc['went_overtime'].fillna('No data')"
   ]
  },
  {
   "cell_type": "code",
   "execution_count": 3,
   "id": "dceb7a6d",
   "metadata": {
    "execution": {
     "iopub.execute_input": "2024-03-19T14:45:05.196921Z",
     "iopub.status.busy": "2024-03-19T14:45:05.195989Z",
     "iopub.status.idle": "2024-03-19T14:45:05.208109Z",
     "shell.execute_reply": "2024-03-19T14:45:05.206925Z"
    },
    "papermill": {
     "duration": 0.029666,
     "end_time": "2024-03-19T14:45:05.210638",
     "exception": false,
     "start_time": "2024-03-19T14:45:05.180972",
     "status": "completed"
    },
    "tags": []
   },
   "outputs": [
    {
     "data": {
      "text/plain": [
       "0"
      ]
     },
     "execution_count": 3,
     "metadata": {},
     "output_type": "execute_result"
    }
   ],
   "source": [
    "#Checking if every NaN value has been removed\n",
    "adcc.isnull().sum().sum()"
   ]
  },
  {
   "cell_type": "code",
   "execution_count": 4,
   "id": "c7484922",
   "metadata": {
    "execution": {
     "iopub.execute_input": "2024-03-19T14:45:05.239296Z",
     "iopub.status.busy": "2024-03-19T14:45:05.238853Z",
     "iopub.status.idle": "2024-03-19T14:45:05.249274Z",
     "shell.execute_reply": "2024-03-19T14:45:05.248003Z"
    },
    "papermill": {
     "duration": 0.027742,
     "end_time": "2024-03-19T14:45:05.251895",
     "exception": false,
     "start_time": "2024-03-19T14:45:05.224153",
     "status": "completed"
    },
    "tags": []
   },
   "outputs": [
    {
     "data": {
      "text/plain": [
       "array(['0:00', '0:11', '0:18', '10:0', '10:00', '11:00', '11:49', '11:51',\n",
       "       '13:44', '14:10', '15:00', '1:15', '1:53', '1:59', '20:00', '2:15',\n",
       "       '2:18', '2:43', '2:57', '3:00', '3:19', '3:32', '4:08', '4:35',\n",
       "       '4:57', '5:04', '5:39', '5:49', '5:57', '6:00', '6:18', '6:25',\n",
       "       '6:33', '6:37', '7:10', '7:51', '7:54', '7:58', '8:16', '8:24',\n",
       "       '8:30', '8:34', '8:48', '9:10', '9:35', '9:49'], dtype=object)"
      ]
     },
     "execution_count": 4,
     "metadata": {},
     "output_type": "execute_result"
    }
   ],
   "source": [
    "#There are some faulty data inputs regarding the 'match_duration' column (np.unique(adcc.match_duration))\n",
    "#in some instances there are '.' instead of ':'. This function corrects that\n",
    "\n",
    "def correct_time_format(x):\n",
    "    if '.' in x:\n",
    "        corrected_t = x.replace('.', ':')\n",
    "        return corrected_t\n",
    "    else:\n",
    "        return x\n",
    "\n",
    "# Apply the function to the 'Time' column\n",
    "adcc['match_duration'] = adcc['match_duration'].apply(correct_time_format)\n",
    "\n",
    "# Display the corrected DataFrame\n",
    "np.unique(adcc.match_duration)"
   ]
  },
  {
   "cell_type": "code",
   "execution_count": 5,
   "id": "5514014d",
   "metadata": {
    "execution": {
     "iopub.execute_input": "2024-03-19T14:45:05.281770Z",
     "iopub.status.busy": "2024-03-19T14:45:05.281363Z",
     "iopub.status.idle": "2024-03-19T14:45:05.289331Z",
     "shell.execute_reply": "2024-03-19T14:45:05.288100Z"
    },
    "papermill": {
     "duration": 0.025754,
     "end_time": "2024-03-19T14:45:05.291800",
     "exception": false,
     "start_time": "2024-03-19T14:45:05.266046",
     "status": "completed"
    },
    "tags": []
   },
   "outputs": [
    {
     "data": {
      "text/plain": [
       "array(['FOR', 'INJURY', 'REF', 'SCORE', 'SUB'], dtype=object)"
      ]
     },
     "execution_count": 5,
     "metadata": {},
     "output_type": "execute_result"
    }
   ],
   "source": [
    "#How were the matches won?\n",
    "np.unique(adcc.type_win)"
   ]
  },
  {
   "cell_type": "code",
   "execution_count": 6,
   "id": "e0c63e5f",
   "metadata": {
    "execution": {
     "iopub.execute_input": "2024-03-19T14:45:05.321877Z",
     "iopub.status.busy": "2024-03-19T14:45:05.321502Z",
     "iopub.status.idle": "2024-03-19T14:45:05.332164Z",
     "shell.execute_reply": "2024-03-19T14:45:05.330933Z"
    },
    "papermill": {
     "duration": 0.028199,
     "end_time": "2024-03-19T14:45:05.334450",
     "exception": false,
     "start_time": "2024-03-19T14:45:05.306251",
     "status": "completed"
    },
    "tags": []
   },
   "outputs": [
    {
     "data": {
      "text/plain": [
       "array(['Forfeit', 'Injury', 'Referee', 'Score', 'Submission'],\n",
       "      dtype=object)"
      ]
     },
     "execution_count": 6,
     "metadata": {},
     "output_type": "execute_result"
    }
   ],
   "source": [
    "#I didn't like the format of the 'type_win' column so the new categories of submissions are determined as such:\n",
    "\n",
    "# Define the values and how they will be replaced with a dictionary\n",
    "type_win_categorization = {'FOR': 'Forfeit', \n",
    "                       'INJURY': 'Injury', \n",
    "                       'REF': 'Referee', \n",
    "                       'SCORE':'Score',\n",
    "                       'SUB':'Submission'}\n",
    "\n",
    "# Replace values in the 'Category' column\n",
    "adcc['type_win'] = adcc['type_win'].replace(type_win_categorization)\n",
    "np.unique(adcc.type_win)"
   ]
  },
  {
   "cell_type": "code",
   "execution_count": 7,
   "id": "75e3f2c9",
   "metadata": {
    "execution": {
     "iopub.execute_input": "2024-03-19T14:45:05.366323Z",
     "iopub.status.busy": "2024-03-19T14:45:05.365322Z",
     "iopub.status.idle": "2024-03-19T14:45:05.393361Z",
     "shell.execute_reply": "2024-03-19T14:45:05.392085Z"
    },
    "papermill": {
     "duration": 0.047482,
     "end_time": "2024-03-19T14:45:05.395814",
     "exception": false,
     "start_time": "2024-03-19T14:45:05.348332",
     "status": "completed"
    },
    "tags": []
   },
   "outputs": [
    {
     "data": {
      "text/html": [
       "<div>\n",
       "<style scoped>\n",
       "    .dataframe tbody tr th:only-of-type {\n",
       "        vertical-align: middle;\n",
       "    }\n",
       "\n",
       "    .dataframe tbody tr th {\n",
       "        vertical-align: top;\n",
       "    }\n",
       "\n",
       "    .dataframe thead th {\n",
       "        text-align: right;\n",
       "    }\n",
       "</style>\n",
       "<table border=\"1\" class=\"dataframe\">\n",
       "  <thead>\n",
       "    <tr style=\"text-align: right;\">\n",
       "      <th></th>\n",
       "      <th>match_id</th>\n",
       "      <th>bracket</th>\n",
       "      <th>sex</th>\n",
       "      <th>round</th>\n",
       "      <th>fighter_x</th>\n",
       "      <th>fighter_y</th>\n",
       "      <th>match_duration</th>\n",
       "      <th>winner</th>\n",
       "      <th>type_win</th>\n",
       "      <th>submission</th>\n",
       "      <th>score_x</th>\n",
       "      <th>score_y</th>\n",
       "      <th>total_score_sum</th>\n",
       "      <th>went_overtime</th>\n",
       "      <th>duration_in_s</th>\n",
       "      <th>duration_in_min</th>\n",
       "    </tr>\n",
       "  </thead>\n",
       "  <tbody>\n",
       "    <tr>\n",
       "      <th>0</th>\n",
       "      <td>1</td>\n",
       "      <td>- 66KG</td>\n",
       "      <td>M</td>\n",
       "      <td>round of 16</td>\n",
       "      <td>G.Tonon</td>\n",
       "      <td>S.McNally</td>\n",
       "      <td>10:00</td>\n",
       "      <td>S.McNally</td>\n",
       "      <td>Score</td>\n",
       "      <td>No sub</td>\n",
       "      <td>0.0</td>\n",
       "      <td>3.0</td>\n",
       "      <td>3.0</td>\n",
       "      <td>False</td>\n",
       "      <td>600</td>\n",
       "      <td>10.000000</td>\n",
       "    </tr>\n",
       "    <tr>\n",
       "      <th>1</th>\n",
       "      <td>2</td>\n",
       "      <td>- 66KG</td>\n",
       "      <td>M</td>\n",
       "      <td>round of 16</td>\n",
       "      <td>J.Cisneros</td>\n",
       "      <td>E.Crelinsten</td>\n",
       "      <td>13:44</td>\n",
       "      <td>J.Cisneros</td>\n",
       "      <td>Submission</td>\n",
       "      <td>Armbar</td>\n",
       "      <td>0.0</td>\n",
       "      <td>4.0</td>\n",
       "      <td>4.0</td>\n",
       "      <td>True</td>\n",
       "      <td>824</td>\n",
       "      <td>13.733333</td>\n",
       "    </tr>\n",
       "    <tr>\n",
       "      <th>2</th>\n",
       "      <td>3</td>\n",
       "      <td>- 66KG</td>\n",
       "      <td>M</td>\n",
       "      <td>round of 16</td>\n",
       "      <td>C.Abate</td>\n",
       "      <td>F.Andrey</td>\n",
       "      <td>15:00</td>\n",
       "      <td>F.Andrey</td>\n",
       "      <td>Referee</td>\n",
       "      <td>No sub</td>\n",
       "      <td>0.0</td>\n",
       "      <td>0.0</td>\n",
       "      <td>0.0</td>\n",
       "      <td>True</td>\n",
       "      <td>900</td>\n",
       "      <td>15.000000</td>\n",
       "    </tr>\n",
       "    <tr>\n",
       "      <th>3</th>\n",
       "      <td>4</td>\n",
       "      <td>- 66KG</td>\n",
       "      <td>M</td>\n",
       "      <td>round of 16</td>\n",
       "      <td>D.Reis</td>\n",
       "      <td>A.Willians</td>\n",
       "      <td>10:00</td>\n",
       "      <td>D.Reis</td>\n",
       "      <td>Score</td>\n",
       "      <td>No sub</td>\n",
       "      <td>2.0</td>\n",
       "      <td>0.0</td>\n",
       "      <td>2.0</td>\n",
       "      <td>False</td>\n",
       "      <td>600</td>\n",
       "      <td>10.000000</td>\n",
       "    </tr>\n",
       "    <tr>\n",
       "      <th>4</th>\n",
       "      <td>5</td>\n",
       "      <td>- 66KG</td>\n",
       "      <td>M</td>\n",
       "      <td>round of 16</td>\n",
       "      <td>K.Maciel</td>\n",
       "      <td>G.Martinez</td>\n",
       "      <td>8:30</td>\n",
       "      <td>K.Maciel</td>\n",
       "      <td>Submission</td>\n",
       "      <td>RNC</td>\n",
       "      <td>3.0</td>\n",
       "      <td>0.0</td>\n",
       "      <td>3.0</td>\n",
       "      <td>False</td>\n",
       "      <td>510</td>\n",
       "      <td>8.500000</td>\n",
       "    </tr>\n",
       "  </tbody>\n",
       "</table>\n",
       "</div>"
      ],
      "text/plain": [
       "   match_id  bracket sex        round   fighter_x     fighter_y  \\\n",
       "0         1   - 66KG   M  round of 16     G.Tonon     S.McNally   \n",
       "1         2  - 66KG    M  round of 16  J.Cisneros  E.Crelinsten   \n",
       "2         3  - 66KG    M  round of 16     C.Abate      F.Andrey   \n",
       "3         4  - 66KG    M  round of 16      D.Reis    A.Willians   \n",
       "4         5  - 66KG    M  round of 16    K.Maciel    G.Martinez   \n",
       "\n",
       "  match_duration      winner    type_win submission score_x score_y  \\\n",
       "0          10:00   S.McNally       Score     No sub     0.0     3.0   \n",
       "1          13:44  J.Cisneros  Submission     Armbar     0.0     4.0   \n",
       "2          15:00    F.Andrey     Referee     No sub     0.0     0.0   \n",
       "3          10:00      D.Reis       Score     No sub     2.0     0.0   \n",
       "4           8:30    K.Maciel  Submission        RNC     3.0     0.0   \n",
       "\n",
       "  total_score_sum went_overtime  duration_in_s  duration_in_min  \n",
       "0             3.0         False            600        10.000000  \n",
       "1             4.0          True            824        13.733333  \n",
       "2             0.0          True            900        15.000000  \n",
       "3             2.0         False            600        10.000000  \n",
       "4             3.0         False            510         8.500000  "
      ]
     },
     "execution_count": 7,
     "metadata": {},
     "output_type": "execute_result"
    }
   ],
   "source": [
    "#Converting the HH:SS format into seconds\n",
    "def m_into_s(x):\n",
    "    m,s = map(int, x.split(':'))\n",
    "    return (m*60)+s\n",
    "\n",
    "adcc['duration_in_s'] = adcc['match_duration'].apply(m_into_s)\n",
    "adcc['duration_in_min'] = (adcc['duration_in_s']/60)\n",
    "adcc.head()\n"
   ]
  },
  {
   "cell_type": "markdown",
   "id": "6886ec89",
   "metadata": {
    "papermill": {
     "duration": 0.013939,
     "end_time": "2024-03-19T14:45:05.424962",
     "exception": false,
     "start_time": "2024-03-19T14:45:05.411023",
     "status": "completed"
    },
    "tags": []
   },
   "source": [
    "Data filtering, classification, additional cleaning and visualizations\n",
    "--"
   ]
  },
  {
   "cell_type": "code",
   "execution_count": 8,
   "id": "9789d0eb",
   "metadata": {
    "execution": {
     "iopub.execute_input": "2024-03-19T14:45:05.455438Z",
     "iopub.status.busy": "2024-03-19T14:45:05.454536Z",
     "iopub.status.idle": "2024-03-19T14:45:05.468008Z",
     "shell.execute_reply": "2024-03-19T14:45:05.466858Z"
    },
    "papermill": {
     "duration": 0.031454,
     "end_time": "2024-03-19T14:45:05.470691",
     "exception": false,
     "start_time": "2024-03-19T14:45:05.439237",
     "status": "completed"
    },
    "tags": []
   },
   "outputs": [
    {
     "data": {
      "text/plain": [
       "type_win\n",
       "Score         48\n",
       "Submission    39\n",
       "Referee       20\n",
       "Forfeit        3\n",
       "Injury         2\n",
       "Name: count, dtype: int64"
      ]
     },
     "execution_count": 8,
     "metadata": {},
     "output_type": "execute_result"
    }
   ],
   "source": [
    "#How were the matches won at the ADCC2022\n",
    "type_win_1d = adcc['type_win'].value_counts()\n",
    "type_win_1d"
   ]
  },
  {
   "cell_type": "code",
   "execution_count": 9,
   "id": "6d9be38d",
   "metadata": {
    "execution": {
     "iopub.execute_input": "2024-03-19T14:45:05.501346Z",
     "iopub.status.busy": "2024-03-19T14:45:05.500944Z",
     "iopub.status.idle": "2024-03-19T14:45:05.704227Z",
     "shell.execute_reply": "2024-03-19T14:45:05.702864Z"
    },
    "papermill": {
     "duration": 0.22132,
     "end_time": "2024-03-19T14:45:05.706889",
     "exception": false,
     "start_time": "2024-03-19T14:45:05.485569",
     "status": "completed"
    },
    "tags": []
   },
   "outputs": [
    {
     "data": {
      "image/png": "[encoded data removed]",
      "text/plain": [
       "<Figure size 640x480 with 1 Axes>"
      ]
     },
     "metadata": {},
     "output_type": "display_data"
    }
   ],
   "source": [
    "#Pie chart: How matches were won at the ADCC 2022\n",
    "labels = 'Score', 'Submission', 'Referee', 'Forfeit', 'Injury'\n",
    "fig, ax = plt.subplots()\n",
    "\n",
    "fig.suptitle('How were the matches won at ADCC 2022', y = 1.1)\n",
    "\n",
    "ax.pie(type_win_1d, labels=labels, \n",
    "       autopct='%1.1f%%', radius = 1.5, wedgeprops = {'linewidth': 0}, pctdistance=0.85, labeldistance=1.1); # ';' disables the unnecessary text before the visualization :) \n",
    "\n"
   ]
  },
  {
   "cell_type": "code",
   "execution_count": 10,
   "id": "c1fc1242",
   "metadata": {
    "execution": {
     "iopub.execute_input": "2024-03-19T14:45:05.738888Z",
     "iopub.status.busy": "2024-03-19T14:45:05.738460Z",
     "iopub.status.idle": "2024-03-19T14:45:06.150152Z",
     "shell.execute_reply": "2024-03-19T14:45:06.149266Z"
    },
    "papermill": {
     "duration": 0.431834,
     "end_time": "2024-03-19T14:45:06.153782",
     "exception": false,
     "start_time": "2024-03-19T14:45:05.721948",
     "status": "completed"
    },
    "tags": []
   },
   "outputs": [
    {
     "data": {
      "image/png": "[encoded data removed]",
      "text/plain": [
       "<Figure size 640x480 with 1 Axes>"
      ]
     },
     "metadata": {},
     "output_type": "display_data"
    }
   ],
   "source": [
    "#Pie chart: What were the most common submissions?\n",
    "sub_count = pd.DataFrame(adcc['submission'].value_counts())\n",
    "sub_count.drop(labels='No sub', inplace=True)\n",
    "\n",
    "#Pie plot of the most common submissions\n",
    "labels = 'Rear Naked Choke (RNC)', 'Armbar', 'Heel Hook', 'Choke', 'Guillotine', 'Kimura', 'Other', 'tRNC', 'Verbal Tap','Knee Bar', 'Lins Lock', 'Shoulder Lock', 'Triange', 'Straight Ankle Lock', 'Mounted Triangle', 'Leg Lock', 'Straigth Arm lock'\n",
    "fig, ax = plt.subplots()\n",
    "fig.suptitle('Wins by submission at ADCC 2022', y=1.2)\n",
    "ax.pie(sub_count['count'], labels=labels, \n",
    "       autopct='%1.1f%%', radius = 1.5, wedgeprops = {'linewidth': 0}, rotatelabels = 270, pctdistance=0.86, labeldistance=1.1);\n"
   ]
  },
  {
   "cell_type": "code",
   "execution_count": 11,
   "id": "9b250ddc",
   "metadata": {
    "execution": {
     "iopub.execute_input": "2024-03-19T14:45:06.191070Z",
     "iopub.status.busy": "2024-03-19T14:45:06.190070Z",
     "iopub.status.idle": "2024-03-19T14:45:06.201941Z",
     "shell.execute_reply": "2024-03-19T14:45:06.200708Z"
    },
    "papermill": {
     "duration": 0.03256,
     "end_time": "2024-03-19T14:45:06.204490",
     "exception": false,
     "start_time": "2024-03-19T14:45:06.171930",
     "status": "completed"
    },
    "tags": []
   },
   "outputs": [
    {
     "data": {
      "text/plain": [
       "array(['No sub', 'Armbar', 'RNC', 'Heel Hook', 'Leg Lock',\n",
       "       'Mounted Triangle', 'Straight Ankle Lock', 'Guillotine',\n",
       "       'Triangle', 'Lins Lock', 'Shoulder Lock', 'Kimura', 'Kneebar',\n",
       "       'Verbal Tap', 'Choke', '\\tRNC', 'Other', 'Armlock'], dtype=object)"
      ]
     },
     "execution_count": 11,
     "metadata": {},
     "output_type": "execute_result"
    }
   ],
   "source": [
    "#To analyze the submissions more broadly as in terms of type of submission, we need to categorise them into groups.\n",
    "#But first we need to find out all of the different submissions\n",
    "pd.unique(adcc.submission)"
   ]
  },
  {
   "cell_type": "code",
   "execution_count": 12,
   "id": "2df618e0",
   "metadata": {
    "execution": {
     "iopub.execute_input": "2024-03-19T14:45:06.239997Z",
     "iopub.status.busy": "2024-03-19T14:45:06.239625Z",
     "iopub.status.idle": "2024-03-19T14:45:06.250929Z",
     "shell.execute_reply": "2024-03-19T14:45:06.249461Z"
    },
    "papermill": {
     "duration": 0.031864,
     "end_time": "2024-03-19T14:45:06.253306",
     "exception": false,
     "start_time": "2024-03-19T14:45:06.221442",
     "status": "completed"
    },
    "tags": []
   },
   "outputs": [
    {
     "data": {
      "text/plain": [
       "array(['No sub', 'Armbar', 'RNC', 'Heel Hook', 'Leg Lock',\n",
       "       'Mounted Triangle', 'Straight Ankle Lock', 'Guillotine',\n",
       "       'Triangle', 'Lins Lock', 'Shoulder Lock', 'Kimura', 'Kneebar',\n",
       "       'Verbal Tap', 'Choke', 'tRNC', 'Other', 'Armlock'], dtype=object)"
      ]
     },
     "execution_count": 12,
     "metadata": {},
     "output_type": "execute_result"
    }
   ],
   "source": [
    "#The the '/t RNC' could cause issues in further coding so it is changed\n",
    "for i in range(len(adcc)):\n",
    "    if adcc['submission'][i] == '\\tRNC':\n",
    "        adcc.at[i, 'submission'] = 'tRNC'       \n",
    "pd.unique(adcc.submission)"
   ]
  },
  {
   "cell_type": "code",
   "execution_count": 13,
   "id": "c7cbc931",
   "metadata": {
    "execution": {
     "iopub.execute_input": "2024-03-19T14:45:06.290807Z",
     "iopub.status.busy": "2024-03-19T14:45:06.289796Z",
     "iopub.status.idle": "2024-03-19T14:45:06.303747Z",
     "shell.execute_reply": "2024-03-19T14:45:06.302729Z"
    },
    "papermill": {
     "duration": 0.035027,
     "end_time": "2024-03-19T14:45:06.305899",
     "exception": false,
     "start_time": "2024-03-19T14:45:06.270872",
     "status": "completed"
    },
    "tags": []
   },
   "outputs": [
    {
     "data": {
      "text/plain": [
       "array(['No sub', 'Arm Breaks', 'Chokes', 'Leg Breaks', 'Other'],\n",
       "      dtype=object)"
      ]
     },
     "execution_count": 13,
     "metadata": {},
     "output_type": "execute_result"
    }
   ],
   "source": [
    "#TO make the analysis a bit simpler i grouped the submission in their categories. The new categories are determined in a dictionary as such:\n",
    "submission_categorization = {\n",
    "                            'RNC':'Chokes', 'Guillotine':'Chokes','tRNC':'Chokes','Triangle':'Chokes', 'Shoulder Lock':'Chokes','Mounted Triangle':'Chokes','Choke':'Chokes',\n",
    "                            'Armbar':'Arm Breaks','Kimura':'Arm Breaks', 'Armlock':'Arm Breaks',\n",
    "                            'Heel Hook':'Leg Breaks', 'Kneebar':'Leg Breaks', 'Lins Lock':'Leg Breaks','Straight Ankle Lock':'Leg Breaks','Leg Lock':'Leg Breaks',\n",
    "                            'Other':'Other', 'Verbal Tap':'Other',\n",
    "                            'No sub' : 'No sub'}\n",
    "#creates a new column with the new categories\n",
    "adcc['submission_category'] = adcc['submission'].replace(submission_categorization)\n",
    "pd.unique(adcc['submission_category'])"
   ]
  },
  {
   "cell_type": "code",
   "execution_count": 14,
   "id": "d81c5d5e",
   "metadata": {
    "execution": {
     "iopub.execute_input": "2024-03-19T14:45:06.342497Z",
     "iopub.status.busy": "2024-03-19T14:45:06.341671Z",
     "iopub.status.idle": "2024-03-19T14:45:06.353487Z",
     "shell.execute_reply": "2024-03-19T14:45:06.352314Z"
    },
    "papermill": {
     "duration": 0.033209,
     "end_time": "2024-03-19T14:45:06.356296",
     "exception": false,
     "start_time": "2024-03-19T14:45:06.323087",
     "status": "completed"
    },
    "tags": []
   },
   "outputs": [],
   "source": [
    "#Filters for matches ended by submission\n",
    "sub_only = (adcc.type_win == 'Submission')\n",
    "adcc_sub_only = adcc[sub_only]"
   ]
  },
  {
   "cell_type": "code",
   "execution_count": 15,
   "id": "a9e113bc",
   "metadata": {
    "execution": {
     "iopub.execute_input": "2024-03-19T14:45:06.394491Z",
     "iopub.status.busy": "2024-03-19T14:45:06.394102Z",
     "iopub.status.idle": "2024-03-19T14:45:06.406484Z",
     "shell.execute_reply": "2024-03-19T14:45:06.405141Z"
    },
    "papermill": {
     "duration": 0.034398,
     "end_time": "2024-03-19T14:45:06.408927",
     "exception": false,
     "start_time": "2024-03-19T14:45:06.374529",
     "status": "completed"
    },
    "tags": []
   },
   "outputs": [
    {
     "data": {
      "text/html": [
       "<div>\n",
       "<style scoped>\n",
       "    .dataframe tbody tr th:only-of-type {\n",
       "        vertical-align: middle;\n",
       "    }\n",
       "\n",
       "    .dataframe tbody tr th {\n",
       "        vertical-align: top;\n",
       "    }\n",
       "\n",
       "    .dataframe thead th {\n",
       "        text-align: right;\n",
       "    }\n",
       "</style>\n",
       "<table border=\"1\" class=\"dataframe\">\n",
       "  <thead>\n",
       "    <tr style=\"text-align: right;\">\n",
       "      <th></th>\n",
       "      <th>submission</th>\n",
       "    </tr>\n",
       "    <tr>\n",
       "      <th>submission_category</th>\n",
       "      <th></th>\n",
       "    </tr>\n",
       "  </thead>\n",
       "  <tbody>\n",
       "    <tr>\n",
       "      <th>Arm Breaks</th>\n",
       "      <td>9</td>\n",
       "    </tr>\n",
       "    <tr>\n",
       "      <th>Chokes</th>\n",
       "      <td>18</td>\n",
       "    </tr>\n",
       "    <tr>\n",
       "      <th>Leg Breaks</th>\n",
       "      <td>10</td>\n",
       "    </tr>\n",
       "    <tr>\n",
       "      <th>Other</th>\n",
       "      <td>2</td>\n",
       "    </tr>\n",
       "  </tbody>\n",
       "</table>\n",
       "</div>"
      ],
      "text/plain": [
       "                     submission\n",
       "submission_category            \n",
       "Arm Breaks                    9\n",
       "Chokes                       18\n",
       "Leg Breaks                   10\n",
       "Other                         2"
      ]
     },
     "execution_count": 15,
     "metadata": {},
     "output_type": "execute_result"
    }
   ],
   "source": [
    "#group by submission cathegory\n",
    "sub_cat_count = pd.DataFrame(adcc_sub_only.groupby('submission_category')['submission'].count())\n",
    "sub_cat_count"
   ]
  },
  {
   "cell_type": "code",
   "execution_count": 16,
   "id": "6ed71b69",
   "metadata": {
    "execution": {
     "iopub.execute_input": "2024-03-19T14:45:06.445574Z",
     "iopub.status.busy": "2024-03-19T14:45:06.445196Z",
     "iopub.status.idle": "2024-03-19T14:45:06.597668Z",
     "shell.execute_reply": "2024-03-19T14:45:06.596379Z"
    },
    "papermill": {
     "duration": 0.173679,
     "end_time": "2024-03-19T14:45:06.600140",
     "exception": false,
     "start_time": "2024-03-19T14:45:06.426461",
     "status": "completed"
    },
    "tags": []
   },
   "outputs": [
    {
     "data": {
      "image/png": "[encoded data removed]",
      "text/plain": [
       "<Figure size 640x480 with 1 Axes>"
      ]
     },
     "metadata": {},
     "output_type": "display_data"
    }
   ],
   "source": [
    "#Pie chart: Submission cathegories \n",
    "labels = 'Arm Breaks','Chokes', 'Leg Breaks', 'Other'\n",
    "fig, ax = plt.subplots()\n",
    "\n",
    "fig.suptitle('Wins by submission at ADCC 2022 \\n (submission type)', y=1.1)\n",
    "\n",
    "ax.pie(sub_cat_count['submission'], labels= labels, \n",
    "       autopct='%1.1f%%', radius = 1.5, wedgeprops = {'linewidth': 0}, pctdistance=0.7, labeldistance=1.1 );"
   ]
  },
  {
   "cell_type": "markdown",
   "id": "b112c79a",
   "metadata": {
    "papermill": {
     "duration": 0.017995,
     "end_time": "2024-03-19T14:45:06.636875",
     "exception": false,
     "start_time": "2024-03-19T14:45:06.618880",
     "status": "completed"
    },
    "tags": []
   },
   "source": [
    "ISSUE with the data - Male lightweights\n"
   ]
  },
  {
   "cell_type": "code",
   "execution_count": 17,
   "id": "a6c60d81",
   "metadata": {
    "execution": {
     "iopub.execute_input": "2024-03-19T14:45:06.676086Z",
     "iopub.status.busy": "2024-03-19T14:45:06.674891Z",
     "iopub.status.idle": "2024-03-19T14:45:06.682851Z",
     "shell.execute_reply": "2024-03-19T14:45:06.681839Z"
    },
    "papermill": {
     "duration": 0.029695,
     "end_time": "2024-03-19T14:45:06.685079",
     "exception": false,
     "start_time": "2024-03-19T14:45:06.655384",
     "status": "completed"
    },
    "tags": []
   },
   "outputs": [
    {
     "name": "stdout",
     "output_type": "stream",
     "text": [
      "sex\n",
      "M    96\n",
      "F    16\n",
      "Name: count, dtype: int64\n"
     ]
    }
   ],
   "source": [
    "#How many matches were held for each gender?\n",
    "gender_matches = adcc['sex'].value_counts()\n",
    "print(gender_matches)"
   ]
  },
  {
   "cell_type": "code",
   "execution_count": 18,
   "id": "5748c560",
   "metadata": {
    "execution": {
     "iopub.execute_input": "2024-03-19T14:45:06.723251Z",
     "iopub.status.busy": "2024-03-19T14:45:06.722848Z",
     "iopub.status.idle": "2024-03-19T14:45:06.730861Z",
     "shell.execute_reply": "2024-03-19T14:45:06.729593Z"
    },
    "papermill": {
     "duration": 0.030083,
     "end_time": "2024-03-19T14:45:06.733404",
     "exception": false,
     "start_time": "2024-03-19T14:45:06.703321",
     "status": "completed"
    },
    "tags": []
   },
   "outputs": [
    {
     "name": "stdout",
     "output_type": "stream",
     "text": [
      "Number of competitors: 96\n"
     ]
    }
   ],
   "source": [
    "# Number of competitors? \n",
    "x = pd.unique(adcc['fighter_x'])\n",
    "y = pd.unique(adcc['fighter_y'])\n",
    "x_y = np.append(x,y)\n",
    "x_y = pd.unique(x_y)\n",
    "print('Number of competitors:', len(x_y))\n",
    "#this is important because some competitors can compete in their weight class AND the Absolute category"
   ]
  },
  {
   "cell_type": "code",
   "execution_count": 19,
   "id": "f24be844",
   "metadata": {
    "execution": {
     "iopub.execute_input": "2024-03-19T14:45:06.771951Z",
     "iopub.status.busy": "2024-03-19T14:45:06.771526Z",
     "iopub.status.idle": "2024-03-19T14:45:06.783966Z",
     "shell.execute_reply": "2024-03-19T14:45:06.782844Z"
    },
    "papermill": {
     "duration": 0.034975,
     "end_time": "2024-03-19T14:45:06.786805",
     "exception": false,
     "start_time": "2024-03-19T14:45:06.751830",
     "status": "completed"
    },
    "tags": []
   },
   "outputs": [
    {
     "data": {
      "text/plain": [
       "bracket\n",
       "+ 99KG       16\n",
       "- 66KG        1\n",
       "- 66KG        6\n",
       "- 66KG        9\n",
       "- 77KG       16\n",
       "- 88 KG      16\n",
       "- 99 KG      16\n",
       "ABSOLUTE     16\n",
       "Name: submission, dtype: int64"
      ]
     },
     "execution_count": 19,
     "metadata": {},
     "output_type": "execute_result"
    }
   ],
   "source": [
    "#While plotting the data there was an issue with the lightest male category \n",
    "male_only = (adcc.sex == 'M')\n",
    "female_only = (adcc.sex == 'F')\n",
    "adccM = adcc[male_only]\n",
    "adccF = adcc[female_only]\n",
    "\n",
    "### After all of the data cleaning the category of - 66 kg wasnt grouping as expected. Some faulty data input?\n",
    "adccM.groupby('bracket')['submission'].count()"
   ]
  },
  {
   "cell_type": "code",
   "execution_count": 20,
   "id": "86298e01",
   "metadata": {
    "execution": {
     "iopub.execute_input": "2024-03-19T14:45:06.826153Z",
     "iopub.status.busy": "2024-03-19T14:45:06.825750Z",
     "iopub.status.idle": "2024-03-19T14:45:06.846578Z",
     "shell.execute_reply": "2024-03-19T14:45:06.845224Z"
    },
    "papermill": {
     "duration": 0.043403,
     "end_time": "2024-03-19T14:45:06.849105",
     "exception": false,
     "start_time": "2024-03-19T14:45:06.805702",
     "status": "completed"
    },
    "tags": []
   },
   "outputs": [
    {
     "data": {
      "text/html": [
       "<div>\n",
       "<style scoped>\n",
       "    .dataframe tbody tr th:only-of-type {\n",
       "        vertical-align: middle;\n",
       "    }\n",
       "\n",
       "    .dataframe tbody tr th {\n",
       "        vertical-align: top;\n",
       "    }\n",
       "\n",
       "    .dataframe thead th {\n",
       "        text-align: right;\n",
       "    }\n",
       "</style>\n",
       "<table border=\"1\" class=\"dataframe\">\n",
       "  <thead>\n",
       "    <tr style=\"text-align: right;\">\n",
       "      <th></th>\n",
       "      <th>match_id</th>\n",
       "      <th>bracket</th>\n",
       "      <th>sex</th>\n",
       "      <th>round</th>\n",
       "      <th>fighter_x</th>\n",
       "      <th>fighter_y</th>\n",
       "      <th>match_duration</th>\n",
       "      <th>winner</th>\n",
       "      <th>type_win</th>\n",
       "      <th>submission</th>\n",
       "      <th>score_x</th>\n",
       "      <th>score_y</th>\n",
       "      <th>total_score_sum</th>\n",
       "      <th>went_overtime</th>\n",
       "      <th>duration_in_s</th>\n",
       "      <th>duration_in_min</th>\n",
       "      <th>submission_category</th>\n",
       "    </tr>\n",
       "  </thead>\n",
       "  <tbody>\n",
       "    <tr>\n",
       "      <th>0</th>\n",
       "      <td>1</td>\n",
       "      <td>- 66KG</td>\n",
       "      <td>M</td>\n",
       "      <td>round of 16</td>\n",
       "      <td>G.Tonon</td>\n",
       "      <td>S.McNally</td>\n",
       "      <td>10:00</td>\n",
       "      <td>S.McNally</td>\n",
       "      <td>Score</td>\n",
       "      <td>No sub</td>\n",
       "      <td>0.0</td>\n",
       "      <td>3.0</td>\n",
       "      <td>3.0</td>\n",
       "      <td>False</td>\n",
       "      <td>600</td>\n",
       "      <td>10.0</td>\n",
       "      <td>No sub</td>\n",
       "    </tr>\n",
       "  </tbody>\n",
       "</table>\n",
       "</div>"
      ],
      "text/plain": [
       "   match_id bracket sex        round fighter_x  fighter_y match_duration  \\\n",
       "0         1  - 66KG   M  round of 16   G.Tonon  S.McNally          10:00   \n",
       "\n",
       "      winner type_win submission score_x score_y total_score_sum  \\\n",
       "0  S.McNally    Score     No sub     0.0     3.0             3.0   \n",
       "\n",
       "  went_overtime  duration_in_s  duration_in_min submission_category  \n",
       "0         False            600             10.0              No sub  "
      ]
     },
     "execution_count": 20,
     "metadata": {},
     "output_type": "execute_result"
    }
   ],
   "source": [
    "## As shown here the input '- 66KG' returns only one match\n",
    "lightweight_filter = adccM.bracket == '- 66KG'\n",
    "lightweight_only = adccM[lightweight_filter]\n",
    "lightweight_only\n"
   ]
  },
  {
   "cell_type": "code",
   "execution_count": 21,
   "id": "a5493a6e",
   "metadata": {
    "execution": {
     "iopub.execute_input": "2024-03-19T14:45:06.888487Z",
     "iopub.status.busy": "2024-03-19T14:45:06.888096Z",
     "iopub.status.idle": "2024-03-19T14:45:06.917710Z",
     "shell.execute_reply": "2024-03-19T14:45:06.916437Z"
    },
    "papermill": {
     "duration": 0.052297,
     "end_time": "2024-03-19T14:45:06.920298",
     "exception": false,
     "start_time": "2024-03-19T14:45:06.868001",
     "status": "completed"
    },
    "tags": []
   },
   "outputs": [
    {
     "data": {
      "text/html": [
       "<div>\n",
       "<style scoped>\n",
       "    .dataframe tbody tr th:only-of-type {\n",
       "        vertical-align: middle;\n",
       "    }\n",
       "\n",
       "    .dataframe tbody tr th {\n",
       "        vertical-align: top;\n",
       "    }\n",
       "\n",
       "    .dataframe thead th {\n",
       "        text-align: right;\n",
       "    }\n",
       "</style>\n",
       "<table border=\"1\" class=\"dataframe\">\n",
       "  <thead>\n",
       "    <tr style=\"text-align: right;\">\n",
       "      <th></th>\n",
       "      <th>match_id</th>\n",
       "      <th>bracket</th>\n",
       "      <th>sex</th>\n",
       "      <th>round</th>\n",
       "      <th>fighter_x</th>\n",
       "      <th>fighter_y</th>\n",
       "      <th>match_duration</th>\n",
       "      <th>winner</th>\n",
       "      <th>type_win</th>\n",
       "      <th>submission</th>\n",
       "      <th>score_x</th>\n",
       "      <th>score_y</th>\n",
       "      <th>total_score_sum</th>\n",
       "      <th>went_overtime</th>\n",
       "      <th>duration_in_s</th>\n",
       "      <th>duration_in_min</th>\n",
       "      <th>submission_category</th>\n",
       "    </tr>\n",
       "  </thead>\n",
       "  <tbody>\n",
       "    <tr>\n",
       "      <th>0</th>\n",
       "      <td>1</td>\n",
       "      <td>- 66KG</td>\n",
       "      <td>M</td>\n",
       "      <td>round of 16</td>\n",
       "      <td>G.Tonon</td>\n",
       "      <td>S.McNally</td>\n",
       "      <td>10:00</td>\n",
       "      <td>S.McNally</td>\n",
       "      <td>Score</td>\n",
       "      <td>No sub</td>\n",
       "      <td>0.0</td>\n",
       "      <td>3.0</td>\n",
       "      <td>3.0</td>\n",
       "      <td>False</td>\n",
       "      <td>600</td>\n",
       "      <td>10.000000</td>\n",
       "      <td>No sub</td>\n",
       "    </tr>\n",
       "    <tr>\n",
       "      <th>1</th>\n",
       "      <td>2</td>\n",
       "      <td>- 66KG</td>\n",
       "      <td>M</td>\n",
       "      <td>round of 16</td>\n",
       "      <td>J.Cisneros</td>\n",
       "      <td>E.Crelinsten</td>\n",
       "      <td>13:44</td>\n",
       "      <td>J.Cisneros</td>\n",
       "      <td>Submission</td>\n",
       "      <td>Armbar</td>\n",
       "      <td>0.0</td>\n",
       "      <td>4.0</td>\n",
       "      <td>4.0</td>\n",
       "      <td>True</td>\n",
       "      <td>824</td>\n",
       "      <td>13.733333</td>\n",
       "      <td>Arm Breaks</td>\n",
       "    </tr>\n",
       "    <tr>\n",
       "      <th>2</th>\n",
       "      <td>3</td>\n",
       "      <td>- 66KG</td>\n",
       "      <td>M</td>\n",
       "      <td>round of 16</td>\n",
       "      <td>C.Abate</td>\n",
       "      <td>F.Andrey</td>\n",
       "      <td>15:00</td>\n",
       "      <td>F.Andrey</td>\n",
       "      <td>Referee</td>\n",
       "      <td>No sub</td>\n",
       "      <td>0.0</td>\n",
       "      <td>0.0</td>\n",
       "      <td>0.0</td>\n",
       "      <td>True</td>\n",
       "      <td>900</td>\n",
       "      <td>15.000000</td>\n",
       "      <td>No sub</td>\n",
       "    </tr>\n",
       "    <tr>\n",
       "      <th>3</th>\n",
       "      <td>4</td>\n",
       "      <td>- 66KG</td>\n",
       "      <td>M</td>\n",
       "      <td>round of 16</td>\n",
       "      <td>D.Reis</td>\n",
       "      <td>A.Willians</td>\n",
       "      <td>10:00</td>\n",
       "      <td>D.Reis</td>\n",
       "      <td>Score</td>\n",
       "      <td>No sub</td>\n",
       "      <td>2.0</td>\n",
       "      <td>0.0</td>\n",
       "      <td>2.0</td>\n",
       "      <td>False</td>\n",
       "      <td>600</td>\n",
       "      <td>10.000000</td>\n",
       "      <td>No sub</td>\n",
       "    </tr>\n",
       "    <tr>\n",
       "      <th>4</th>\n",
       "      <td>5</td>\n",
       "      <td>- 66KG</td>\n",
       "      <td>M</td>\n",
       "      <td>round of 16</td>\n",
       "      <td>K.Maciel</td>\n",
       "      <td>G.Martinez</td>\n",
       "      <td>8:30</td>\n",
       "      <td>K.Maciel</td>\n",
       "      <td>Submission</td>\n",
       "      <td>RNC</td>\n",
       "      <td>3.0</td>\n",
       "      <td>0.0</td>\n",
       "      <td>3.0</td>\n",
       "      <td>False</td>\n",
       "      <td>510</td>\n",
       "      <td>8.500000</td>\n",
       "      <td>Chokes</td>\n",
       "    </tr>\n",
       "    <tr>\n",
       "      <th>5</th>\n",
       "      <td>6</td>\n",
       "      <td>- 66KG</td>\n",
       "      <td>M</td>\n",
       "      <td>round of 16</td>\n",
       "      <td>K.Krikorian</td>\n",
       "      <td>D.Pato Oliveira</td>\n",
       "      <td>3:00</td>\n",
       "      <td>D.Pato Oliveira</td>\n",
       "      <td>Submission</td>\n",
       "      <td>Heel Hook</td>\n",
       "      <td>0.0</td>\n",
       "      <td>0.0</td>\n",
       "      <td>0.0</td>\n",
       "      <td>False</td>\n",
       "      <td>180</td>\n",
       "      <td>3.000000</td>\n",
       "      <td>Leg Breaks</td>\n",
       "    </tr>\n",
       "    <tr>\n",
       "      <th>6</th>\n",
       "      <td>7</td>\n",
       "      <td>- 66KG</td>\n",
       "      <td>M</td>\n",
       "      <td>round of 16</td>\n",
       "      <td>A.Agazarm</td>\n",
       "      <td>J.Skinner</td>\n",
       "      <td>15:00</td>\n",
       "      <td>J.Skinner</td>\n",
       "      <td>Referee</td>\n",
       "      <td>No sub</td>\n",
       "      <td>0.0</td>\n",
       "      <td>0.0</td>\n",
       "      <td>0.0</td>\n",
       "      <td>True</td>\n",
       "      <td>900</td>\n",
       "      <td>15.000000</td>\n",
       "      <td>No sub</td>\n",
       "    </tr>\n",
       "    <tr>\n",
       "      <th>7</th>\n",
       "      <td>8</td>\n",
       "      <td>- 66KG</td>\n",
       "      <td>M</td>\n",
       "      <td>round of 16</td>\n",
       "      <td>G.Sousa</td>\n",
       "      <td>R.Alvarenga</td>\n",
       "      <td>10:00</td>\n",
       "      <td>G.Sousa</td>\n",
       "      <td>Score</td>\n",
       "      <td>No sub</td>\n",
       "      <td>5.0</td>\n",
       "      <td>0.0</td>\n",
       "      <td>5.0</td>\n",
       "      <td>False</td>\n",
       "      <td>600</td>\n",
       "      <td>10.000000</td>\n",
       "      <td>No sub</td>\n",
       "    </tr>\n",
       "    <tr>\n",
       "      <th>8</th>\n",
       "      <td>9</td>\n",
       "      <td>- 66KG</td>\n",
       "      <td>M</td>\n",
       "      <td>quarter</td>\n",
       "      <td>S.McNally</td>\n",
       "      <td>J.Cisneros</td>\n",
       "      <td>15:00</td>\n",
       "      <td>J.Cisneros</td>\n",
       "      <td>Referee</td>\n",
       "      <td>No sub</td>\n",
       "      <td>0.0</td>\n",
       "      <td>0.0</td>\n",
       "      <td>0.0</td>\n",
       "      <td>True</td>\n",
       "      <td>900</td>\n",
       "      <td>15.000000</td>\n",
       "      <td>No sub</td>\n",
       "    </tr>\n",
       "    <tr>\n",
       "      <th>9</th>\n",
       "      <td>10</td>\n",
       "      <td>- 66KG</td>\n",
       "      <td>M</td>\n",
       "      <td>quarter</td>\n",
       "      <td>F.Andrey</td>\n",
       "      <td>D.Reis</td>\n",
       "      <td>15:00</td>\n",
       "      <td>D.Reis</td>\n",
       "      <td>Referee</td>\n",
       "      <td>No sub</td>\n",
       "      <td>0.0</td>\n",
       "      <td>0.0</td>\n",
       "      <td>0.0</td>\n",
       "      <td>True</td>\n",
       "      <td>900</td>\n",
       "      <td>15.000000</td>\n",
       "      <td>No sub</td>\n",
       "    </tr>\n",
       "    <tr>\n",
       "      <th>10</th>\n",
       "      <td>11</td>\n",
       "      <td>- 66KG</td>\n",
       "      <td>M</td>\n",
       "      <td>quarter</td>\n",
       "      <td>K.Maciel</td>\n",
       "      <td>D.Pato Oliveira</td>\n",
       "      <td>7:51</td>\n",
       "      <td>D.Pato Oliveira</td>\n",
       "      <td>Submission</td>\n",
       "      <td>Leg Lock</td>\n",
       "      <td>0.0</td>\n",
       "      <td>0.0</td>\n",
       "      <td>0.0</td>\n",
       "      <td>False</td>\n",
       "      <td>471</td>\n",
       "      <td>7.850000</td>\n",
       "      <td>Leg Breaks</td>\n",
       "    </tr>\n",
       "    <tr>\n",
       "      <th>11</th>\n",
       "      <td>12</td>\n",
       "      <td>- 66KG</td>\n",
       "      <td>M</td>\n",
       "      <td>quarter</td>\n",
       "      <td>J.Skinner</td>\n",
       "      <td>G.Sousa</td>\n",
       "      <td>5:39</td>\n",
       "      <td>G.Sousa</td>\n",
       "      <td>Submission</td>\n",
       "      <td>Mounted Triangle</td>\n",
       "      <td>0.0</td>\n",
       "      <td>0.0</td>\n",
       "      <td>0.0</td>\n",
       "      <td>False</td>\n",
       "      <td>339</td>\n",
       "      <td>5.650000</td>\n",
       "      <td>Chokes</td>\n",
       "    </tr>\n",
       "    <tr>\n",
       "      <th>12</th>\n",
       "      <td>13</td>\n",
       "      <td>- 66KG</td>\n",
       "      <td>M</td>\n",
       "      <td>semi</td>\n",
       "      <td>J.Cisneros</td>\n",
       "      <td>D.Reis</td>\n",
       "      <td>10:00</td>\n",
       "      <td>D.Reis</td>\n",
       "      <td>Score</td>\n",
       "      <td>No sub</td>\n",
       "      <td>0.0</td>\n",
       "      <td>2.0</td>\n",
       "      <td>2.0</td>\n",
       "      <td>False</td>\n",
       "      <td>600</td>\n",
       "      <td>10.000000</td>\n",
       "      <td>No sub</td>\n",
       "    </tr>\n",
       "    <tr>\n",
       "      <th>13</th>\n",
       "      <td>14</td>\n",
       "      <td>- 66KG</td>\n",
       "      <td>M</td>\n",
       "      <td>semi</td>\n",
       "      <td>D.Pato Oliveira</td>\n",
       "      <td>G.Sousa</td>\n",
       "      <td>15:00</td>\n",
       "      <td>G.Sousa</td>\n",
       "      <td>Referee</td>\n",
       "      <td>No sub</td>\n",
       "      <td>0.0</td>\n",
       "      <td>0.0</td>\n",
       "      <td>0.0</td>\n",
       "      <td>True</td>\n",
       "      <td>900</td>\n",
       "      <td>15.000000</td>\n",
       "      <td>No sub</td>\n",
       "    </tr>\n",
       "    <tr>\n",
       "      <th>14</th>\n",
       "      <td>15</td>\n",
       "      <td>- 66KG</td>\n",
       "      <td>M</td>\n",
       "      <td>final</td>\n",
       "      <td>D.Reis</td>\n",
       "      <td>G.Sousa</td>\n",
       "      <td>20:00</td>\n",
       "      <td>D.Reis</td>\n",
       "      <td>Score</td>\n",
       "      <td>No sub</td>\n",
       "      <td>3.0</td>\n",
       "      <td>0.0</td>\n",
       "      <td>3.0</td>\n",
       "      <td>False</td>\n",
       "      <td>1200</td>\n",
       "      <td>20.000000</td>\n",
       "      <td>No sub</td>\n",
       "    </tr>\n",
       "    <tr>\n",
       "      <th>15</th>\n",
       "      <td>16</td>\n",
       "      <td>- 66KG</td>\n",
       "      <td>M</td>\n",
       "      <td>3rd place</td>\n",
       "      <td>J.Cisneros</td>\n",
       "      <td>D.Pato Oliveira</td>\n",
       "      <td>11:00</td>\n",
       "      <td>D.Pato Oliveira</td>\n",
       "      <td>Score</td>\n",
       "      <td>No sub</td>\n",
       "      <td>0.0</td>\n",
       "      <td>0.0</td>\n",
       "      <td>0.0</td>\n",
       "      <td>True</td>\n",
       "      <td>660</td>\n",
       "      <td>11.000000</td>\n",
       "      <td>No sub</td>\n",
       "    </tr>\n",
       "  </tbody>\n",
       "</table>\n",
       "</div>"
      ],
      "text/plain": [
       "    match_id   bracket sex        round        fighter_x        fighter_y  \\\n",
       "0          1    - 66KG   M  round of 16          G.Tonon        S.McNally   \n",
       "1          2   - 66KG    M  round of 16       J.Cisneros     E.Crelinsten   \n",
       "2          3   - 66KG    M  round of 16          C.Abate         F.Andrey   \n",
       "3          4   - 66KG    M  round of 16           D.Reis       A.Willians   \n",
       "4          5   - 66KG    M  round of 16         K.Maciel       G.Martinez   \n",
       "5          6   - 66KG    M  round of 16      K.Krikorian  D.Pato Oliveira   \n",
       "6          7   - 66KG    M  round of 16        A.Agazarm        J.Skinner   \n",
       "7          8  - 66KG     M  round of 16          G.Sousa      R.Alvarenga   \n",
       "8          9  - 66KG     M      quarter        S.McNally       J.Cisneros   \n",
       "9         10  - 66KG     M      quarter         F.Andrey           D.Reis   \n",
       "10        11  - 66KG     M      quarter         K.Maciel  D.Pato Oliveira   \n",
       "11        12  - 66KG     M      quarter        J.Skinner          G.Sousa   \n",
       "12        13  - 66KG     M         semi       J.Cisneros           D.Reis   \n",
       "13        14  - 66KG     M         semi  D.Pato Oliveira          G.Sousa   \n",
       "14        15  - 66KG     M        final           D.Reis          G.Sousa   \n",
       "15        16  - 66KG     M    3rd place       J.Cisneros  D.Pato Oliveira   \n",
       "\n",
       "   match_duration           winner    type_win        submission score_x  \\\n",
       "0           10:00        S.McNally       Score            No sub     0.0   \n",
       "1           13:44       J.Cisneros  Submission            Armbar     0.0   \n",
       "2           15:00         F.Andrey     Referee            No sub     0.0   \n",
       "3           10:00           D.Reis       Score            No sub     2.0   \n",
       "4            8:30         K.Maciel  Submission               RNC     3.0   \n",
       "5            3:00  D.Pato Oliveira  Submission         Heel Hook     0.0   \n",
       "6           15:00        J.Skinner     Referee            No sub     0.0   \n",
       "7           10:00          G.Sousa       Score            No sub     5.0   \n",
       "8           15:00       J.Cisneros     Referee            No sub     0.0   \n",
       "9           15:00           D.Reis     Referee            No sub     0.0   \n",
       "10           7:51  D.Pato Oliveira  Submission          Leg Lock     0.0   \n",
       "11           5:39          G.Sousa  Submission  Mounted Triangle     0.0   \n",
       "12          10:00           D.Reis       Score            No sub     0.0   \n",
       "13          15:00          G.Sousa     Referee            No sub     0.0   \n",
       "14          20:00           D.Reis       Score            No sub     3.0   \n",
       "15          11:00  D.Pato Oliveira       Score            No sub     0.0   \n",
       "\n",
       "   score_y total_score_sum went_overtime  duration_in_s  duration_in_min  \\\n",
       "0      3.0             3.0         False            600        10.000000   \n",
       "1      4.0             4.0          True            824        13.733333   \n",
       "2      0.0             0.0          True            900        15.000000   \n",
       "3      0.0             2.0         False            600        10.000000   \n",
       "4      0.0             3.0         False            510         8.500000   \n",
       "5      0.0             0.0         False            180         3.000000   \n",
       "6      0.0             0.0          True            900        15.000000   \n",
       "7      0.0             5.0         False            600        10.000000   \n",
       "8      0.0             0.0          True            900        15.000000   \n",
       "9      0.0             0.0          True            900        15.000000   \n",
       "10     0.0             0.0         False            471         7.850000   \n",
       "11     0.0             0.0         False            339         5.650000   \n",
       "12     2.0             2.0         False            600        10.000000   \n",
       "13     0.0             0.0          True            900        15.000000   \n",
       "14     0.0             3.0         False           1200        20.000000   \n",
       "15     0.0             0.0          True            660        11.000000   \n",
       "\n",
       "   submission_category  \n",
       "0               No sub  \n",
       "1           Arm Breaks  \n",
       "2               No sub  \n",
       "3               No sub  \n",
       "4               Chokes  \n",
       "5           Leg Breaks  \n",
       "6               No sub  \n",
       "7               No sub  \n",
       "8               No sub  \n",
       "9               No sub  \n",
       "10          Leg Breaks  \n",
       "11              Chokes  \n",
       "12              No sub  \n",
       "13              No sub  \n",
       "14              No sub  \n",
       "15              No sub  "
      ]
     },
     "execution_count": 21,
     "metadata": {},
     "output_type": "execute_result"
    }
   ],
   "source": [
    "#using this type of filtering it was shown that the data is the same in regards to the body of the text. \n",
    "filtered_df = adccM[adccM['bracket'].str.contains('- 66KG', case=False)]\n",
    "filtered_df.head(16)\n",
    "\n",
    "##BUT! some probing showed that there are 1 and 2 extra spaces after e.g. '- 66KG_' and '- 66KG_ _ '"
   ]
  },
  {
   "cell_type": "code",
   "execution_count": 22,
   "id": "53f6d430",
   "metadata": {
    "execution": {
     "iopub.execute_input": "2024-03-19T14:45:07.024762Z",
     "iopub.status.busy": "2024-03-19T14:45:07.023745Z",
     "iopub.status.idle": "2024-03-19T14:45:07.034653Z",
     "shell.execute_reply": "2024-03-19T14:45:07.033269Z"
    },
    "papermill": {
     "duration": 0.097043,
     "end_time": "2024-03-19T14:45:07.037491",
     "exception": false,
     "start_time": "2024-03-19T14:45:06.940448",
     "status": "completed"
    },
    "tags": []
   },
   "outputs": [],
   "source": [
    "# Removing the extra space after the weight category in the 'bracket', and re-applying the filters that will be needed later\n",
    "adcc['bracket'] = adcc['bracket'].str.strip()\n",
    "adccM = adcc[male_only]\n",
    "adccF = adcc[female_only]\n",
    "adcc_sub_only = adcc[sub_only]\n",
    "adcc_sub_onlyM = adcc[sub_only & male_only]\n"
   ]
  },
  {
   "cell_type": "code",
   "execution_count": 23,
   "id": "b79fea5b",
   "metadata": {
    "execution": {
     "iopub.execute_input": "2024-03-19T14:45:07.080968Z",
     "iopub.status.busy": "2024-03-19T14:45:07.079828Z",
     "iopub.status.idle": "2024-03-19T14:45:07.088754Z",
     "shell.execute_reply": "2024-03-19T14:45:07.087382Z"
    },
    "papermill": {
     "duration": 0.033057,
     "end_time": "2024-03-19T14:45:07.091218",
     "exception": false,
     "start_time": "2024-03-19T14:45:07.058161",
     "status": "completed"
    },
    "tags": []
   },
   "outputs": [
    {
     "name": "stdout",
     "output_type": "stream",
     "text": [
      "Number of male competitors:  80\n"
     ]
    }
   ],
   "source": [
    "# Number of male competitors\n",
    "xM = pd.unique(adccM['fighter_x'])\n",
    "yM = pd.unique(adccM['fighter_y'])\n",
    "x_yM = np.append(xM,yM)\n",
    "x_yM = pd.unique(x_yM)\n",
    "print('Number of male competitors: ', len(x_yM))"
   ]
  },
  {
   "cell_type": "code",
   "execution_count": 24,
   "id": "66e37a65",
   "metadata": {
    "execution": {
     "iopub.execute_input": "2024-03-19T14:45:07.144646Z",
     "iopub.status.busy": "2024-03-19T14:45:07.143022Z",
     "iopub.status.idle": "2024-03-19T14:45:07.153972Z",
     "shell.execute_reply": "2024-03-19T14:45:07.152542Z"
    },
    "papermill": {
     "duration": 0.041545,
     "end_time": "2024-03-19T14:45:07.156453",
     "exception": false,
     "start_time": "2024-03-19T14:45:07.114908",
     "status": "completed"
    },
    "tags": []
   },
   "outputs": [
    {
     "name": "stdout",
     "output_type": "stream",
     "text": [
      "Number of female competitors:  16\n"
     ]
    }
   ],
   "source": [
    "# Number of female competitors\n",
    "xF = pd.unique(adccF['fighter_x'])\n",
    "yF = pd.unique(adccF['fighter_y'])\n",
    "x_yF = np.append(xF,yF)\n",
    "x_yF = pd.unique(x_yF)\n",
    "print('Number of female competitors: ',len(x_yF))"
   ]
  },
  {
   "cell_type": "code",
   "execution_count": 25,
   "id": "3ec7132d",
   "metadata": {
    "execution": {
     "iopub.execute_input": "2024-03-19T14:45:07.201826Z",
     "iopub.status.busy": "2024-03-19T14:45:07.200731Z",
     "iopub.status.idle": "2024-03-19T14:45:07.910664Z",
     "shell.execute_reply": "2024-03-19T14:45:07.909253Z"
    },
    "papermill": {
     "duration": 0.7361,
     "end_time": "2024-03-19T14:45:07.913684",
     "exception": false,
     "start_time": "2024-03-19T14:45:07.177584",
     "status": "completed"
    },
    "tags": []
   },
   "outputs": [
    {
     "data": {
      "image/png": "[encoded data removed]",
      "text/plain": [
       "<Figure size 1000x500 with 2 Axes>"
      ]
     },
     "metadata": {},
     "output_type": "display_data"
    }
   ],
   "source": [
    "#Plotting the type of win \n",
    "warnings.filterwarnings(\"ignore\", category=FutureWarning)  # this is to remove a future warning for something that will be deprecated in the next version of seaborn but for now it doesn't have a influence on the visualization\n",
    "\n",
    "f, axes = plt.subplots(1, 2, figsize = (10,5), sharey=True, sharex = False, layout = 'tight')\n",
    "axes[0].set_title('Male competitors')\n",
    "axes[1].set_title('Female competitors')\n",
    "axes[1].tick_params(axis = 'y')\n",
    "axes[1].set_box_aspect(2/1)\n",
    "\n",
    "\n",
    "M = sns.histplot(adccM, x='bracket', ax = axes [0],\n",
    "             hue='type_win', hue_order = ['Submission', 'Score', 'Referee', 'Forfeit', 'Injury'], \n",
    "             stat='count', multiple='dodge', legend = False,)\n",
    "\n",
    "\n",
    "F = sns.histplot(adccF, x='bracket', ax = axes [1],\n",
    "             hue='type_win', hue_order = ['Submission', 'Score', 'Referee', 'Forfeit', 'Injury'], \n",
    "             stat='count', multiple='dodge', shrink= 0.75)\n",
    "\n",
    "\n",
    "sns.move_legend(F, \"upper left\", bbox_to_anchor=(1.1, 1), \n",
    "                title = '       Victory by:', \n",
    "                frameon = False)\n",
    "\n",
    "sns.set_style(\"whitegrid\", {'grid.linestyle': ''})\n",
    "\n",
    "plt.show()\n",
    "\n",
    "\n",
    "##### plt.legend(labels = ['Submission', 'Score', 'Referee', 'Forfeit', 'Injury']) doesn't work properly!\n",
    "\n"
   ]
  },
  {
   "cell_type": "code",
   "execution_count": 26,
   "id": "ed7ec30c",
   "metadata": {
    "execution": {
     "iopub.execute_input": "2024-03-19T14:45:07.958776Z",
     "iopub.status.busy": "2024-03-19T14:45:07.958380Z",
     "iopub.status.idle": "2024-03-19T14:45:07.975723Z",
     "shell.execute_reply": "2024-03-19T14:45:07.974556Z"
    },
    "papermill": {
     "duration": 0.042833,
     "end_time": "2024-03-19T14:45:07.978088",
     "exception": false,
     "start_time": "2024-03-19T14:45:07.935255",
     "status": "completed"
    },
    "tags": []
   },
   "outputs": [
    {
     "data": {
      "text/html": [
       "<div>\n",
       "<style scoped>\n",
       "    .dataframe tbody tr th:only-of-type {\n",
       "        vertical-align: middle;\n",
       "    }\n",
       "\n",
       "    .dataframe tbody tr th {\n",
       "        vertical-align: top;\n",
       "    }\n",
       "\n",
       "    .dataframe thead th {\n",
       "        text-align: right;\n",
       "    }\n",
       "</style>\n",
       "<table border=\"1\" class=\"dataframe\">\n",
       "  <thead>\n",
       "    <tr style=\"text-align: right;\">\n",
       "      <th></th>\n",
       "      <th></th>\n",
       "      <th>n_matches</th>\n",
       "    </tr>\n",
       "    <tr>\n",
       "      <th>bracket</th>\n",
       "      <th>sex</th>\n",
       "      <th></th>\n",
       "    </tr>\n",
       "  </thead>\n",
       "  <tbody>\n",
       "    <tr>\n",
       "      <th>+ 60 KG</th>\n",
       "      <th>F</th>\n",
       "      <td>8</td>\n",
       "    </tr>\n",
       "    <tr>\n",
       "      <th>- 60 KG</th>\n",
       "      <th>F</th>\n",
       "      <td>8</td>\n",
       "    </tr>\n",
       "    <tr>\n",
       "      <th>+ 99KG</th>\n",
       "      <th>M</th>\n",
       "      <td>16</td>\n",
       "    </tr>\n",
       "    <tr>\n",
       "      <th>- 66KG</th>\n",
       "      <th>M</th>\n",
       "      <td>16</td>\n",
       "    </tr>\n",
       "    <tr>\n",
       "      <th>- 77KG</th>\n",
       "      <th>M</th>\n",
       "      <td>16</td>\n",
       "    </tr>\n",
       "    <tr>\n",
       "      <th>- 88 KG</th>\n",
       "      <th>M</th>\n",
       "      <td>16</td>\n",
       "    </tr>\n",
       "    <tr>\n",
       "      <th>- 99 KG</th>\n",
       "      <th>M</th>\n",
       "      <td>16</td>\n",
       "    </tr>\n",
       "    <tr>\n",
       "      <th>ABSOLUTE</th>\n",
       "      <th>M</th>\n",
       "      <td>16</td>\n",
       "    </tr>\n",
       "  </tbody>\n",
       "</table>\n",
       "</div>"
      ],
      "text/plain": [
       "              n_matches\n",
       "bracket  sex           \n",
       "+ 60 KG  F            8\n",
       "- 60 KG  F            8\n",
       "+ 99KG   M           16\n",
       "- 66KG   M           16\n",
       "- 77KG   M           16\n",
       "- 88 KG  M           16\n",
       "- 99 KG  M           16\n",
       "ABSOLUTE M           16"
      ]
     },
     "execution_count": 26,
     "metadata": {},
     "output_type": "execute_result"
    }
   ],
   "source": [
    "number_of_matches = pd.DataFrame(adcc.groupby(['bracket','sex'])['match_id'].count())\n",
    "number_of_matches.columns = ['n_matches']\n",
    "number_of_matches.sort_values(by= ['sex','bracket'], ascending=True)"
   ]
  },
  {
   "cell_type": "markdown",
   "id": "49bd0559",
   "metadata": {
    "papermill": {
     "duration": 0.020525,
     "end_time": "2024-03-19T14:45:08.019154",
     "exception": false,
     "start_time": "2024-03-19T14:45:07.998629",
     "status": "completed"
    },
    "tags": []
   },
   "source": [
    "For further analysis I will only take into account the male competitor categories because of the number of competitors and more categories\n"
   ]
  },
  {
   "cell_type": "code",
   "execution_count": 27,
   "id": "a0f45fe9",
   "metadata": {
    "execution": {
     "iopub.execute_input": "2024-03-19T14:45:08.062511Z",
     "iopub.status.busy": "2024-03-19T14:45:08.062108Z",
     "iopub.status.idle": "2024-03-19T14:45:08.102182Z",
     "shell.execute_reply": "2024-03-19T14:45:08.100919Z"
    },
    "papermill": {
     "duration": 0.065171,
     "end_time": "2024-03-19T14:45:08.104872",
     "exception": false,
     "start_time": "2024-03-19T14:45:08.039701",
     "status": "completed"
    },
    "tags": []
   },
   "outputs": [
    {
     "data": {
      "text/html": [
       "<div>\n",
       "<style scoped>\n",
       "    .dataframe tbody tr th:only-of-type {\n",
       "        vertical-align: middle;\n",
       "    }\n",
       "\n",
       "    .dataframe tbody tr th {\n",
       "        vertical-align: top;\n",
       "    }\n",
       "\n",
       "    .dataframe thead th {\n",
       "        text-align: right;\n",
       "    }\n",
       "</style>\n",
       "<table border=\"1\" class=\"dataframe\">\n",
       "  <thead>\n",
       "    <tr style=\"text-align: right;\">\n",
       "      <th>submission</th>\n",
       "      <th>Armbar</th>\n",
       "      <th>Kimura</th>\n",
       "      <th>Mounted Triangle</th>\n",
       "      <th>Triangle</th>\n",
       "      <th>Choke</th>\n",
       "      <th>Guillotine</th>\n",
       "      <th>RNC</th>\n",
       "      <th>Shoulder Lock</th>\n",
       "      <th>Heel Hook</th>\n",
       "      <th>Kneebar</th>\n",
       "      <th>Leg Lock</th>\n",
       "      <th>Lins Lock</th>\n",
       "      <th>Straight Ankle Lock</th>\n",
       "      <th>Verbal Tap</th>\n",
       "    </tr>\n",
       "    <tr>\n",
       "      <th>bracket</th>\n",
       "      <th></th>\n",
       "      <th></th>\n",
       "      <th></th>\n",
       "      <th></th>\n",
       "      <th></th>\n",
       "      <th></th>\n",
       "      <th></th>\n",
       "      <th></th>\n",
       "      <th></th>\n",
       "      <th></th>\n",
       "      <th></th>\n",
       "      <th></th>\n",
       "      <th></th>\n",
       "      <th></th>\n",
       "    </tr>\n",
       "  </thead>\n",
       "  <tbody>\n",
       "    <tr>\n",
       "      <th>- 66KG</th>\n",
       "      <td>1.0</td>\n",
       "      <td>0.0</td>\n",
       "      <td>1.0</td>\n",
       "      <td>0.0</td>\n",
       "      <td>0.0</td>\n",
       "      <td>0.0</td>\n",
       "      <td>1.0</td>\n",
       "      <td>0.0</td>\n",
       "      <td>1.0</td>\n",
       "      <td>0.0</td>\n",
       "      <td>1.0</td>\n",
       "      <td>0.0</td>\n",
       "      <td>0.0</td>\n",
       "      <td>0.0</td>\n",
       "    </tr>\n",
       "    <tr>\n",
       "      <th>- 77KG</th>\n",
       "      <td>4.0</td>\n",
       "      <td>0.0</td>\n",
       "      <td>0.0</td>\n",
       "      <td>0.0</td>\n",
       "      <td>0.0</td>\n",
       "      <td>0.0</td>\n",
       "      <td>1.0</td>\n",
       "      <td>0.0</td>\n",
       "      <td>2.0</td>\n",
       "      <td>0.0</td>\n",
       "      <td>0.0</td>\n",
       "      <td>0.0</td>\n",
       "      <td>1.0</td>\n",
       "      <td>0.0</td>\n",
       "    </tr>\n",
       "    <tr>\n",
       "      <th>- 88 KG</th>\n",
       "      <td>0.0</td>\n",
       "      <td>0.0</td>\n",
       "      <td>0.0</td>\n",
       "      <td>1.0</td>\n",
       "      <td>0.0</td>\n",
       "      <td>1.0</td>\n",
       "      <td>1.0</td>\n",
       "      <td>0.0</td>\n",
       "      <td>1.0</td>\n",
       "      <td>0.0</td>\n",
       "      <td>0.0</td>\n",
       "      <td>1.0</td>\n",
       "      <td>0.0</td>\n",
       "      <td>0.0</td>\n",
       "    </tr>\n",
       "    <tr>\n",
       "      <th>- 99 KG</th>\n",
       "      <td>0.0</td>\n",
       "      <td>1.0</td>\n",
       "      <td>0.0</td>\n",
       "      <td>0.0</td>\n",
       "      <td>0.0</td>\n",
       "      <td>1.0</td>\n",
       "      <td>1.0</td>\n",
       "      <td>1.0</td>\n",
       "      <td>0.0</td>\n",
       "      <td>0.0</td>\n",
       "      <td>0.0</td>\n",
       "      <td>0.0</td>\n",
       "      <td>0.0</td>\n",
       "      <td>0.0</td>\n",
       "    </tr>\n",
       "    <tr>\n",
       "      <th>+ 99KG</th>\n",
       "      <td>1.0</td>\n",
       "      <td>0.0</td>\n",
       "      <td>0.0</td>\n",
       "      <td>0.0</td>\n",
       "      <td>0.0</td>\n",
       "      <td>0.0</td>\n",
       "      <td>4.0</td>\n",
       "      <td>0.0</td>\n",
       "      <td>2.0</td>\n",
       "      <td>1.0</td>\n",
       "      <td>0.0</td>\n",
       "      <td>0.0</td>\n",
       "      <td>0.0</td>\n",
       "      <td>1.0</td>\n",
       "    </tr>\n",
       "    <tr>\n",
       "      <th>ABSOLUTE</th>\n",
       "      <td>1.0</td>\n",
       "      <td>0.0</td>\n",
       "      <td>0.0</td>\n",
       "      <td>0.0</td>\n",
       "      <td>2.0</td>\n",
       "      <td>0.0</td>\n",
       "      <td>0.0</td>\n",
       "      <td>0.0</td>\n",
       "      <td>0.0</td>\n",
       "      <td>0.0</td>\n",
       "      <td>0.0</td>\n",
       "      <td>0.0</td>\n",
       "      <td>0.0</td>\n",
       "      <td>0.0</td>\n",
       "    </tr>\n",
       "  </tbody>\n",
       "</table>\n",
       "</div>"
      ],
      "text/plain": [
       "submission  Armbar  Kimura  Mounted Triangle  Triangle  Choke  Guillotine  \\\n",
       "bracket                                                                     \n",
       "- 66KG         1.0     0.0               1.0       0.0    0.0         0.0   \n",
       "- 77KG         4.0     0.0               0.0       0.0    0.0         0.0   \n",
       "- 88 KG        0.0     0.0               0.0       1.0    0.0         1.0   \n",
       "- 99 KG        0.0     1.0               0.0       0.0    0.0         1.0   \n",
       "+ 99KG         1.0     0.0               0.0       0.0    0.0         0.0   \n",
       "ABSOLUTE       1.0     0.0               0.0       0.0    2.0         0.0   \n",
       "\n",
       "submission  RNC  Shoulder Lock  Heel Hook  Kneebar  Leg Lock  Lins Lock  \\\n",
       "bracket                                                                   \n",
       "- 66KG      1.0            0.0        1.0      0.0       1.0        0.0   \n",
       "- 77KG      1.0            0.0        2.0      0.0       0.0        0.0   \n",
       "- 88 KG     1.0            0.0        1.0      0.0       0.0        1.0   \n",
       "- 99 KG     1.0            1.0        0.0      0.0       0.0        0.0   \n",
       "+ 99KG      4.0            0.0        2.0      1.0       0.0        0.0   \n",
       "ABSOLUTE    0.0            0.0        0.0      0.0       0.0        0.0   \n",
       "\n",
       "submission  Straight Ankle Lock  Verbal Tap  \n",
       "bracket                                      \n",
       "- 66KG                      0.0         0.0  \n",
       "- 77KG                      1.0         0.0  \n",
       "- 88 KG                     0.0         0.0  \n",
       "- 99 KG                     0.0         0.0  \n",
       "+ 99KG                      0.0         1.0  \n",
       "ABSOLUTE                    0.0         0.0  "
      ]
     },
     "execution_count": 27,
     "metadata": {},
     "output_type": "execute_result"
    }
   ],
   "source": [
    "#To prepare a heat map of the most common submission at each weight class we first we need to group the data and get the count of the values.\n",
    "#Then we need to unstack the data into a pd.DataFrame and fill out the NaN data with 0. \n",
    "#After that we changed the order of indices so the y-axis hase more sense\n",
    "\n",
    "hm = (adcc_sub_onlyM.groupby('bracket')['submission'].value_counts().unstack().fillna(0))\n",
    " \n",
    "hm = hm.reindex(['- 66KG', '- 77KG', '- 88 KG', '- 99 KG', '+ 99KG', 'ABSOLUTE' ])\n",
    "\n",
    "hm = hm[['Armbar', 'Kimura', 'Mounted Triangle', 'Triangle', 'Choke', 'Guillotine', 'RNC', 'Shoulder Lock','Heel Hook', 'Kneebar', 'Leg Lock',  'Lins Lock', 'Straight Ankle Lock', 'Verbal Tap']]\n",
    " \n",
    "hm\n",
    "\n",
    "\n"
   ]
  },
  {
   "cell_type": "code",
   "execution_count": 28,
   "id": "2a12f8ea",
   "metadata": {
    "execution": {
     "iopub.execute_input": "2024-03-19T14:45:08.150952Z",
     "iopub.status.busy": "2024-03-19T14:45:08.150509Z",
     "iopub.status.idle": "2024-03-19T14:45:08.935923Z",
     "shell.execute_reply": "2024-03-19T14:45:08.934603Z"
    },
    "papermill": {
     "duration": 0.811698,
     "end_time": "2024-03-19T14:45:08.938514",
     "exception": false,
     "start_time": "2024-03-19T14:45:08.126816",
     "status": "completed"
    },
    "tags": []
   },
   "outputs": [
    {
     "data": {
      "image/png": "[encoded data removed]",
      "text/plain": [
       "<Figure size 640x480 with 2 Axes>"
      ]
     },
     "metadata": {},
     "output_type": "display_data"
    }
   ],
   "source": [
    "#Heat map \n",
    "sns.heatmap(hm, annot = True, cmap=\"crest\",\n",
    "            yticklabels = ['- 66 kg', '- 77 kg', '- 88 kg', '- 99 kg', '+ 99 kg', 'ABSOLUTE']);\n",
    "\n"
   ]
  },
  {
   "cell_type": "code",
   "execution_count": 29,
   "id": "20870172",
   "metadata": {
    "execution": {
     "iopub.execute_input": "2024-03-19T14:45:08.985830Z",
     "iopub.status.busy": "2024-03-19T14:45:08.985433Z",
     "iopub.status.idle": "2024-03-19T14:45:09.446831Z",
     "shell.execute_reply": "2024-03-19T14:45:09.445439Z"
    },
    "papermill": {
     "duration": 0.488049,
     "end_time": "2024-03-19T14:45:09.449315",
     "exception": false,
     "start_time": "2024-03-19T14:45:08.961266",
     "status": "completed"
    },
    "tags": []
   },
   "outputs": [
    {
     "data": {
      "image/png": "[encoded data removed]",
      "text/plain": [
       "<Figure size 640x480 with 2 Axes>"
      ]
     },
     "metadata": {},
     "output_type": "display_data"
    }
   ],
   "source": [
    "#Heat map \n",
    "hm2 = (adcc_sub_onlyM.groupby('bracket')['submission_category'].value_counts().unstack().fillna(0)\n",
    ".reindex(['- 66KG', '- 77KG', '- 88 KG', '- 99 KG', '+ 99KG', 'ABSOLUTE' ]))\n",
    "\n",
    "sns.heatmap(hm2, annot = True,cmap=\"crest\", \n",
    "            yticklabels = ['- 66 kg', '- 77 kg', '- 88 kg', '- 99 kg', '+ 99 kg', 'ABSOLUTE']\n",
    "           )\n",
    "plt.ylabel('Weight category')\n",
    "plt.xlabel('Submission category');\n"
   ]
  },
  {
   "cell_type": "code",
   "execution_count": 30,
   "id": "17e3a296",
   "metadata": {
    "execution": {
     "iopub.execute_input": "2024-03-19T14:45:09.497626Z",
     "iopub.status.busy": "2024-03-19T14:45:09.497230Z",
     "iopub.status.idle": "2024-03-19T14:45:09.932911Z",
     "shell.execute_reply": "2024-03-19T14:45:09.931390Z"
    },
    "papermill": {
     "duration": 0.462851,
     "end_time": "2024-03-19T14:45:09.935647",
     "exception": false,
     "start_time": "2024-03-19T14:45:09.472796",
     "status": "completed"
    },
    "tags": []
   },
   "outputs": [
    {
     "data": {
      "image/png": "[encoded data removed]",
      "text/plain": [
       "<Figure size 640x480 with 1 Axes>"
      ]
     },
     "metadata": {},
     "output_type": "display_data"
    }
   ],
   "source": [
    "# Number of each succesful submission \n",
    "count_plot = sns.countplot(data = adcc_sub_onlyM, x = 'submission') \n",
    "plt.xticks(rotation=90)\n",
    "plt.xlabel('Submission');\n"
   ]
  },
  {
   "cell_type": "markdown",
   "id": "1d170b50",
   "metadata": {
    "papermill": {
     "duration": 0.022405,
     "end_time": "2024-03-19T14:45:09.981440",
     "exception": false,
     "start_time": "2024-03-19T14:45:09.959035",
     "status": "completed"
    },
    "tags": []
   },
   "source": [
    "{The match duration for the ADCC world championships is 10 min (+ 5 min with overtime). \n",
    "In the case of the finals it increases to 20 min (+ 10 min with overtime with an extra + 10 min if it still isn't resolved).}"
   ]
  },
  {
   "cell_type": "code",
   "execution_count": 31,
   "id": "1f79afd0",
   "metadata": {
    "execution": {
     "iopub.execute_input": "2024-03-19T14:45:10.032044Z",
     "iopub.status.busy": "2024-03-19T14:45:10.031226Z",
     "iopub.status.idle": "2024-03-19T14:45:11.726675Z",
     "shell.execute_reply": "2024-03-19T14:45:11.725435Z"
    },
    "papermill": {
     "duration": 1.724165,
     "end_time": "2024-03-19T14:45:11.729266",
     "exception": false,
     "start_time": "2024-03-19T14:45:10.005101",
     "status": "completed"
    },
    "tags": []
   },
   "outputs": [
    {
     "data": {
      "image/png": "[encoded data removed]",
      "text/plain": [
       "<Figure size 500x600 with 3 Axes>"
      ]
     },
     "metadata": {},
     "output_type": "display_data"
    }
   ],
   "source": [
    "#The distribution of different submission categories across the duration of the match\n",
    "sub_per_t = adcc_sub_onlyM.groupby('submission_category')['duration_in_min'].value_counts()\n",
    "\n",
    "f, axes = plt.subplots(3,1, figsize = (5,6), sharex = True,  sharey = True, layout ='constrained')\n",
    "d1 = sns.histplot(sub_per_t['Arm Breaks'], x='duration_in_min', kde=True, bins=9, ax = axes[0], color ='blue')\n",
    "d2 = sns.histplot(sub_per_t['Chokes'], x='duration_in_min', kde=True, bins=9, ax = axes[1],  color ='orange')\n",
    "d3 = sns.histplot(sub_per_t['Leg Breaks'], x='duration_in_min', kde=True, bins=9, ax = axes[2],  color ='green')\n",
    "plt.xlim(0.1)\n",
    "plt.xlabel('Match duration [min]')\n",
    "axes[0].set_title('Arm Breaks')\n",
    "axes[1].set_title('Chokes')\n",
    "axes[2].set_title('Leg Breaks');\n",
    "\n",
    "\n"
   ]
  },
  {
   "cell_type": "markdown",
   "id": "035267dd",
   "metadata": {
    "papermill": {
     "duration": 0.023502,
     "end_time": "2024-03-19T14:45:11.777086",
     "exception": false,
     "start_time": "2024-03-19T14:45:11.753584",
     "status": "completed"
    },
    "tags": []
   },
   "source": [
    "Leg Break and Arm Break submissions were more common at the beginig of the match.\n",
    "On the other hand Chokes are distributed more evenly, and the highest likelyhood of them occuring is around the 8th minute.  \n",
    "What is common in all cases is that the likelyhood of a submission decreases as the match comes to its designated end.\n",
    "\n",
    "The main reason why there is a decrease in submissions as the match time runs out is the fact that fighters with a point advantage at the end of the match stall (i.e. become passive) to ensure their victory by points, which decreases the chances of a successful submission attempt for both participants. Also, there is the possibility of fatigue that slows down the fighters and limits position control and submission efficiency as the match continues."
   ]
  },
  {
   "cell_type": "code",
   "execution_count": 32,
   "id": "7790936c",
   "metadata": {
    "execution": {
     "iopub.execute_input": "2024-03-19T14:45:11.826666Z",
     "iopub.status.busy": "2024-03-19T14:45:11.826272Z",
     "iopub.status.idle": "2024-03-19T14:45:11.846442Z",
     "shell.execute_reply": "2024-03-19T14:45:11.845217Z"
    },
    "papermill": {
     "duration": 0.048093,
     "end_time": "2024-03-19T14:45:11.848756",
     "exception": false,
     "start_time": "2024-03-19T14:45:11.800663",
     "status": "completed"
    },
    "tags": []
   },
   "outputs": [
    {
     "name": "stdout",
     "output_type": "stream",
     "text": [
      "Male competitors\n",
      "Number of matches:  96\n",
      "Number of matches that went into overtime:  25 ( 26.04 % )\n",
      "Number of matches that finished with a submission during overtime: 2 ( 8.0 % )\n"
     ]
    }
   ],
   "source": [
    "#What is the number of matches that went into overtime in the male competitor categories\n",
    "number_of_matches_overtime = pd.DataFrame(adccM.groupby(['went_overtime'])['match_id'].count())\n",
    "number_of_matches_overtime\n",
    "ot = adccM['went_overtime'] == True #n(matches overtime)\n",
    "reg = adccM['went_overtime'] == False #regular time \n",
    "nd = adccM['went_overtime'] == 'No data' # there is one No data input that is actually a Score win\n",
    "matches = len(adccM[reg]) + len(adccM[ot]) + len(adccM[nd])\n",
    "print('Male competitors')\n",
    "print('Number of matches: ', matches)\n",
    "print('Number of matches that went into overtime: ', len(adccM[ot]), '(',(round((100*(len(adccM[ot]))/matches),2)), '%', ')',) \n",
    "\n",
    "#Number of the overtime matches that finished with a submission\n",
    "overtime_subs = adccM[ot].groupby('type_win')['match_id'].count()\n",
    "print('Number of matches that finished with a submission during overtime:', overtime_subs['Submission'], '(',(100*overtime_subs['Submission']/len(adccM[ot])), '%',')')\n"
   ]
  },
  {
   "cell_type": "markdown",
   "id": "357dc685",
   "metadata": {
    "papermill": {
     "duration": 0.023442,
     "end_time": "2024-03-19T14:45:11.896084",
     "exception": false,
     "start_time": "2024-03-19T14:45:11.872642",
     "status": "completed"
    },
    "tags": []
   },
   "source": [
    "If the matches go into overtime the referee usually declares the more dominant competitor the winner. 26 % of the matches go to overtime, but only a fraction (8 %) of that end in overtime by submission. Because of this, overtime submissions do not influence as much, the distribution of the submission categories because they aren't as prevalent.\n",
    "\n"
   ]
  },
  {
   "cell_type": "code",
   "execution_count": 33,
   "id": "8094a739",
   "metadata": {
    "execution": {
     "iopub.execute_input": "2024-03-19T14:45:11.946828Z",
     "iopub.status.busy": "2024-03-19T14:45:11.945578Z",
     "iopub.status.idle": "2024-03-19T14:45:11.968417Z",
     "shell.execute_reply": "2024-03-19T14:45:11.967214Z"
    },
    "papermill": {
     "duration": 0.050727,
     "end_time": "2024-03-19T14:45:11.970810",
     "exception": false,
     "start_time": "2024-03-19T14:45:11.920083",
     "status": "completed"
    },
    "tags": []
   },
   "outputs": [
    {
     "data": {
      "text/html": [
       "<div>\n",
       "<style scoped>\n",
       "    .dataframe tbody tr th:only-of-type {\n",
       "        vertical-align: middle;\n",
       "    }\n",
       "\n",
       "    .dataframe tbody tr th {\n",
       "        vertical-align: top;\n",
       "    }\n",
       "\n",
       "    .dataframe thead th {\n",
       "        text-align: right;\n",
       "    }\n",
       "</style>\n",
       "<table border=\"1\" class=\"dataframe\">\n",
       "  <thead>\n",
       "    <tr style=\"text-align: right;\">\n",
       "      <th></th>\n",
       "      <th>match_id</th>\n",
       "      <th>bracket</th>\n",
       "      <th>sex</th>\n",
       "      <th>round</th>\n",
       "      <th>fighter_x</th>\n",
       "      <th>fighter_y</th>\n",
       "      <th>match_duration</th>\n",
       "      <th>winner</th>\n",
       "      <th>type_win</th>\n",
       "      <th>submission</th>\n",
       "      <th>score_x</th>\n",
       "      <th>score_y</th>\n",
       "      <th>total_score_sum</th>\n",
       "      <th>went_overtime</th>\n",
       "      <th>duration_in_s</th>\n",
       "      <th>duration_in_min</th>\n",
       "      <th>submission_category</th>\n",
       "    </tr>\n",
       "  </thead>\n",
       "  <tbody>\n",
       "    <tr>\n",
       "      <th>14</th>\n",
       "      <td>15</td>\n",
       "      <td>- 66KG</td>\n",
       "      <td>M</td>\n",
       "      <td>final</td>\n",
       "      <td>D.Reis</td>\n",
       "      <td>G.Sousa</td>\n",
       "      <td>20:00</td>\n",
       "      <td>D.Reis</td>\n",
       "      <td>Score</td>\n",
       "      <td>No sub</td>\n",
       "      <td>3.0</td>\n",
       "      <td>0.0</td>\n",
       "      <td>3.0</td>\n",
       "      <td>False</td>\n",
       "      <td>1200</td>\n",
       "      <td>20.000000</td>\n",
       "      <td>No sub</td>\n",
       "    </tr>\n",
       "    <tr>\n",
       "      <th>30</th>\n",
       "      <td>31</td>\n",
       "      <td>- 77KG</td>\n",
       "      <td>M</td>\n",
       "      <td>final</td>\n",
       "      <td>K.Ruotolo</td>\n",
       "      <td>M.Galvao</td>\n",
       "      <td>11:51</td>\n",
       "      <td>K.Ruotolo</td>\n",
       "      <td>Submission</td>\n",
       "      <td>Heel Hook</td>\n",
       "      <td>0.0</td>\n",
       "      <td>0.0</td>\n",
       "      <td>0.0</td>\n",
       "      <td>False</td>\n",
       "      <td>711</td>\n",
       "      <td>11.850000</td>\n",
       "      <td>Leg Breaks</td>\n",
       "    </tr>\n",
       "    <tr>\n",
       "      <th>46</th>\n",
       "      <td>47</td>\n",
       "      <td>- 88 KG</td>\n",
       "      <td>M</td>\n",
       "      <td>final</td>\n",
       "      <td>G.Bodoni</td>\n",
       "      <td>L.Hulk</td>\n",
       "      <td>14:10</td>\n",
       "      <td>G.Bodoni</td>\n",
       "      <td>Submission</td>\n",
       "      <td>RNC</td>\n",
       "      <td>9.0</td>\n",
       "      <td>0.0</td>\n",
       "      <td>9.0</td>\n",
       "      <td>False</td>\n",
       "      <td>850</td>\n",
       "      <td>14.166667</td>\n",
       "      <td>Chokes</td>\n",
       "    </tr>\n",
       "    <tr>\n",
       "      <th>62</th>\n",
       "      <td>63</td>\n",
       "      <td>- 99 KG</td>\n",
       "      <td>M</td>\n",
       "      <td>final</td>\n",
       "      <td>K.Duarte</td>\n",
       "      <td>C.Jones</td>\n",
       "      <td>20:00</td>\n",
       "      <td>K.Duarte</td>\n",
       "      <td>Score</td>\n",
       "      <td>No sub</td>\n",
       "      <td>12.0</td>\n",
       "      <td>0.0</td>\n",
       "      <td>12.0</td>\n",
       "      <td>False</td>\n",
       "      <td>1200</td>\n",
       "      <td>20.000000</td>\n",
       "      <td>No sub</td>\n",
       "    </tr>\n",
       "    <tr>\n",
       "      <th>78</th>\n",
       "      <td>79</td>\n",
       "      <td>+ 99KG</td>\n",
       "      <td>M</td>\n",
       "      <td>final</td>\n",
       "      <td>G.Ryan</td>\n",
       "      <td>N.Rodriguez</td>\n",
       "      <td>2:15</td>\n",
       "      <td>G.Ryan</td>\n",
       "      <td>Submission</td>\n",
       "      <td>Heel Hook</td>\n",
       "      <td>0.0</td>\n",
       "      <td>0.0</td>\n",
       "      <td>0.0</td>\n",
       "      <td>False</td>\n",
       "      <td>135</td>\n",
       "      <td>2.250000</td>\n",
       "      <td>Leg Breaks</td>\n",
       "    </tr>\n",
       "    <tr>\n",
       "      <th>110</th>\n",
       "      <td>111</td>\n",
       "      <td>ABSOLUTE</td>\n",
       "      <td>M</td>\n",
       "      <td>final</td>\n",
       "      <td>Y.Simoes</td>\n",
       "      <td>N.Meregali</td>\n",
       "      <td>20:00</td>\n",
       "      <td>Y.Simoes</td>\n",
       "      <td>Score</td>\n",
       "      <td>No sub</td>\n",
       "      <td>0.0</td>\n",
       "      <td>0.0</td>\n",
       "      <td>0.0</td>\n",
       "      <td>False</td>\n",
       "      <td>1200</td>\n",
       "      <td>20.000000</td>\n",
       "      <td>No sub</td>\n",
       "    </tr>\n",
       "  </tbody>\n",
       "</table>\n",
       "</div>"
      ],
      "text/plain": [
       "     match_id   bracket sex  round  fighter_x    fighter_y match_duration  \\\n",
       "14         15    - 66KG   M  final     D.Reis      G.Sousa          20:00   \n",
       "30         31    - 77KG   M  final  K.Ruotolo     M.Galvao          11:51   \n",
       "46         47   - 88 KG   M  final   G.Bodoni       L.Hulk          14:10   \n",
       "62         63   - 99 KG   M  final   K.Duarte      C.Jones          20:00   \n",
       "78         79    + 99KG   M  final     G.Ryan  N.Rodriguez           2:15   \n",
       "110       111  ABSOLUTE   M  final   Y.Simoes   N.Meregali          20:00   \n",
       "\n",
       "        winner    type_win submission score_x score_y total_score_sum  \\\n",
       "14      D.Reis       Score     No sub     3.0     0.0             3.0   \n",
       "30   K.Ruotolo  Submission  Heel Hook     0.0     0.0             0.0   \n",
       "46    G.Bodoni  Submission        RNC     9.0     0.0             9.0   \n",
       "62    K.Duarte       Score     No sub    12.0     0.0            12.0   \n",
       "78      G.Ryan  Submission  Heel Hook     0.0     0.0             0.0   \n",
       "110   Y.Simoes       Score     No sub     0.0     0.0             0.0   \n",
       "\n",
       "    went_overtime  duration_in_s  duration_in_min submission_category  \n",
       "14          False           1200        20.000000              No sub  \n",
       "30          False            711        11.850000          Leg Breaks  \n",
       "46          False            850        14.166667              Chokes  \n",
       "62          False           1200        20.000000              No sub  \n",
       "78          False            135         2.250000          Leg Breaks  \n",
       "110         False           1200        20.000000              No sub  "
      ]
     },
     "execution_count": 33,
     "metadata": {},
     "output_type": "execute_result"
    }
   ],
   "source": [
    "#And now. Just out of curiosity. How were the final matches won? \n",
    "finals = adccM['round'] == 'final'\n",
    "adccM[finals]\n"
   ]
  },
  {
   "cell_type": "markdown",
   "id": "1bb84e4b",
   "metadata": {
    "papermill": {
     "duration": 0.02393,
     "end_time": "2024-03-19T14:45:12.018640",
     "exception": false,
     "start_time": "2024-03-19T14:45:11.994710",
     "status": "completed"
    },
    "tags": []
   },
   "source": [
    "Conclusions\n",
    "---"
   ]
  },
  {
   "cell_type": "markdown",
   "id": "cada6667",
   "metadata": {
    "papermill": {
     "duration": 0.02371,
     "end_time": "2024-03-19T14:45:12.066371",
     "exception": false,
     "start_time": "2024-03-19T14:45:12.042661",
     "status": "completed"
    },
    "tags": []
   },
   "source": [
    "\n",
    "I probably need to buy an instructional video on Heel Hooks ...\n",
    "\n",
    "But in all seriousness, this data analysis gave insight into a very important fact. The fundamentals like Arm Bars and Rear Naked Chokes are a huge part of the submissions repertoire. These are the fundamental techniques that you even learn on your first day of grappling/jiu jitsu/sambo training. And know you know why: they work even at the highest level.\n",
    "\n",
    "Of course as the results have shown, Heel hooks as the more \"advanced\" techniques are also prevalent. Heel hooks could be deployed from awkward and assumingly \"bad\" non-dominant positions. This coupled with their speed, control and unpredictablity is the reason why they are becoming more and more popular in the past 10 years.\n",
    "\n",
    "I, myself, as a 77-ish kg grappling-hobbyist-individual very much apreciate the heat maps. They show data regarding the weight classes and submissions. These alone can be very important to see where you stand with your technique and what are your chances in a (lets be fair...) local no-name tournament. \n",
    "This all brings up the questions:\n",
    "-Do you know how to defend the most comon submission from your category from all of the different positions (whilst scrambling, standing, mount/mounted, closed guard, 4/11 etc.)? \n",
    "-Do you know how to attack with those submissions? \n",
    "-How to transition from one submission to the next best one?\n",
    "\n",
    "Go train, have fun, good luck...\n",
    "\n"
   ]
  }
 ],
 "metadata": {
  "kaggle": {
   "accelerator": "none",
   "dataSources": [
    {
     "datasetId": 2505861,
     "sourceId": 4252582,
     "sourceType": "datasetVersion"
    }
   ],
   "dockerImageVersionId": 30646,
   "isGpuEnabled": false,
   "isInternetEnabled": true,
   "language": "python",
   "sourceType": "notebook"
  },
  "kernelspec": {
   "display_name": "Python 3",
   "language": "python",
   "name": "python3"
  },
  "language_info": {
   "codemirror_mode": {
    "name": "ipython",
    "version": 3
   },
   "file_extension": ".py",
   "mimetype": "text/x-python",
   "name": "python",
   "nbconvert_exporter": "python",
   "pygments_lexer": "ipython3",
   "version": "3.10.13"
  },
  "papermill": {
   "default_parameters": {},
   "duration": 13.669348,
   "end_time": "2024-03-19T14:45:12.815390",
   "environment_variables": {},
   "exception": null,
   "input_path": "__notebook__.ipynb",
   "output_path": "__notebook__.ipynb",
   "parameters": {},
   "start_time": "2024-03-19T14:44:59.146042",
   "version": "2.5.0"
  }
 },
 "nbformat": 4,
 "nbformat_minor": 5
}
